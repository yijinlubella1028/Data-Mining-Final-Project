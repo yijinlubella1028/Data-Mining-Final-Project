{
 "cells": [
  {
   "cell_type": "markdown",
   "id": "40f1f16b",
   "metadata": {
    "slideshow": {
     "slide_type": "slide"
    }
   },
   "source": [
    "# Final Project\n",
    "\n",
    "# Name: Yijin Lu\n",
    "    \n",
    "Website: https://www.kickstarter.com\n",
    "\n",
    "Data source (link to download): https://www.kaggle.com/kemical/kickstarter-projects       "
   ]
  },
  {
   "cell_type": "markdown",
   "id": "aacd8dde",
   "metadata": {
    "slideshow": {
     "slide_type": "slide"
    }
   },
   "source": [
    "## Data and Problem Summary\n",
    "\n",
    "### Dataset: \n",
    "Kickstar Projects\n",
    "\n",
    "### Motivation: \n",
    "Our project will include an analysis of data from Kickstarter, a crowdfunding website. The motivation behind our project will include:\n",
    "- Analyzing which category is associated with successful campaigns.\n",
    "- Finding the best prediction model of precise prediction.\n",
    "- Assessing characteristics of successful projects.\n",
    "\n",
    "Overall, our exploration and assessment of the dataset will help project owners on Kickstarter to make wise decisions on how to raise money and sustain the success of their projects on Kickstarter."
   ]
  },
  {
   "cell_type": "markdown",
   "id": "a8b43f1c",
   "metadata": {
    "slideshow": {
     "slide_type": "subslide"
    }
   },
   "source": [
    "\n",
    "### Questions addressing:\n",
    "- Exploratory\n",
    "    - Visualize the successful/failed projects in the dataset\n",
    "    - Any correlation among numerical variables?\n",
    "    - Which category has the most successful projects?\n",
    "    - Which category has the highest pledged over goal rate? \n",
    "\n",
    "- Machine Learning \n",
    "    - Stand from the perspective of a project owner, Which model can minimize the Type I error, and yield a high precision score?\n",
    "    - Which category of the project would most likely be classified as false positive?\n",
    "    - What characteristics of the project that are informative in determining the success? "
   ]
  },
  {
   "cell_type": "code",
   "execution_count": 1,
   "id": "2c717bb5",
   "metadata": {
    "slideshow": {
     "slide_type": "skip"
    }
   },
   "outputs": [],
   "source": [
    "# load the package \n",
    "import numpy as np\n",
    "import pandas as pd\n",
    "import seaborn as sns\n",
    "from matplotlib import pyplot as plt\n",
    "import plotly.express as px\n",
    "import statsmodels.api as sm\n",
    "import statsmodels.formula.api as smf\n",
    "from sklearn.metrics import mean_squared_error\n",
    "from sklearn.linear_model import LinearRegression\n",
    "from sklearn.model_selection import train_test_split, LeaveOneOut, KFold, cross_val_score\n",
    "from sklearn.linear_model import Ridge, RidgeCV, Lasso, LassoCV\n",
    "from sklearn.feature_selection import SequentialFeatureSelector\n",
    "from sklearn.neighbors import KNeighborsClassifier\n",
    "from sklearn import metrics\n",
    "from sklearn.metrics import confusion_matrix, ConfusionMatrixDisplay, classification_report\n",
    "from sklearn import preprocessing\n",
    "from sklearn import neighbors\n",
    "from sklearn.preprocessing import PolynomialFeatures\n",
    "from sklearn.naive_bayes import GaussianNB\n",
    "import pandas as pd\n",
    "import datetime as datetime\n",
    "from sklearn.linear_model import LogisticRegression\n",
    "from sklearn.metrics import roc_curve\n",
    "from sklearn.metrics import roc_auc_score\n",
    "from sklearn.ensemble import RandomForestClassifier\n",
    "from sklearn.model_selection import GridSearchCV\n",
    "from numpy.random import seed\n",
    "from numpy.random import randn\n",
    "from numpy import mean\n",
    "from numpy import std\n",
    "from sklearn.decomposition import PCA"
   ]
  },
  {
   "cell_type": "code",
   "execution_count": 2,
   "id": "6fe687e8",
   "metadata": {
    "slideshow": {
     "slide_type": "skip"
    }
   },
   "outputs": [],
   "source": [
    "# association rule\n",
    "from apyori import apriori\n",
    "from mlxtend.preprocessing import TransactionEncoder\n",
    "from mlxtend.frequent_patterns import apriori\n",
    "from mlxtend.frequent_patterns import association_rules"
   ]
  },
  {
   "cell_type": "markdown",
   "id": "cbb650b7",
   "metadata": {
    "slideshow": {
     "slide_type": "subslide"
    }
   },
   "source": [
    "## Clean dataset and drop redundant columns"
   ]
  },
  {
   "cell_type": "code",
   "execution_count": 3,
   "id": "62d10d9c",
   "metadata": {
    "slideshow": {
     "slide_type": "subslide"
    }
   },
   "outputs": [
    {
     "name": "stdout",
     "output_type": "stream",
     "text": [
      "378661\n",
      "Index(['ID', 'name', 'category', 'main_category', 'currency', 'deadline',\n",
      "       'goal', 'launched', 'pledged', 'state', 'backers', 'country',\n",
      "       'usd pledged', 'usd_pledged_real', 'usd_goal_real'],\n",
      "      dtype='object')\n"
     ]
    }
   ],
   "source": [
    "# find out the length of the dataset\n",
    "df_kickstar = pd.read_csv('ks-projects-201801.csv')\n",
    "print(len(df_kickstar))\n",
    "\n",
    "# print out all the columns\n",
    "columns = df_kickstar.columns\n",
    "print(columns)"
   ]
  },
  {
   "cell_type": "code",
   "execution_count": 4,
   "id": "76a96e94",
   "metadata": {
    "slideshow": {
     "slide_type": "subslide"
    }
   },
   "outputs": [
    {
     "name": "stdout",
     "output_type": "stream",
     "text": [
      "374860\n"
     ]
    }
   ],
   "source": [
    "# clean the null rows \n",
    "not_null = df_kickstar.notnull()\n",
    "row_notnull = not_null.all(axis = 1)\n",
    "kickstar = df_kickstar[row_notnull]\n",
    "\n",
    "print(len(kickstar))\n",
    "# there are 3801 rows contain null value, after cleaning, we have 374860 rows in our dataset"
   ]
  },
  {
   "cell_type": "code",
   "execution_count": 5,
   "id": "dea56dc9",
   "metadata": {
    "slideshow": {
     "slide_type": "subslide"
    }
   },
   "outputs": [],
   "source": [
    "# drop redundant columns\n",
    "kickstar = kickstar.drop(['usd pledged','pledged','goal', 'category'], axis = 1)"
   ]
  },
  {
   "cell_type": "code",
   "execution_count": 6,
   "id": "711a379a",
   "metadata": {
    "slideshow": {
     "slide_type": "subslide"
    }
   },
   "outputs": [],
   "source": [
    "# Create a new column of duration, in which we assume that could be associated with the state of the project.\n",
    "# create two helper functions\n",
    "\n",
    "launch_pre = [i.split(' ')[0] for i in kickstar['launched']]\n",
    "deadline_pre = [i.split(' ')[0] for i in kickstar['deadline']]"
   ]
  },
  {
   "cell_type": "code",
   "execution_count": 7,
   "id": "591399ca",
   "metadata": {
    "slideshow": {
     "slide_type": "subslide"
    }
   },
   "outputs": [],
   "source": [
    "# create a new column of duration, which shows how long the project stays in the public\n",
    "\n",
    "kickstar['trans_launched'] = [datetime.datetime.strptime(i, '%Y-%m-%d') for i in launch_pre]\n",
    "kickstar['trans_deadline'] = [datetime.datetime.strptime(i, '%Y-%m-%d') for i in deadline_pre]\n",
    "\n",
    "kickstar['duration'] = kickstar['trans_deadline'] - kickstar['trans_launched']\n",
    "#print(kickstar['duration'])\n",
    "\n",
    "#change the column to int object\n",
    "kickstar['duration'] = kickstar['duration'].dt.days"
   ]
  },
  {
   "cell_type": "code",
   "execution_count": 8,
   "id": "709bdbb5",
   "metadata": {
    "slideshow": {
     "slide_type": "subslide"
    }
   },
   "outputs": [],
   "source": [
    "# create a year column\n",
    "kickstar['year'] = [float(k[:4]) for k in deadline_pre]"
   ]
  },
  {
   "cell_type": "code",
   "execution_count": 9,
   "id": "932ef2dc",
   "metadata": {
    "slideshow": {
     "slide_type": "subslide"
    }
   },
   "outputs": [],
   "source": [
    "# create a new column of length of project name\n",
    "kickstar['name_length'] = [len(i) for i in kickstar['name']]"
   ]
  },
  {
   "cell_type": "code",
   "execution_count": 10,
   "id": "e09003fc",
   "metadata": {
    "slideshow": {
     "slide_type": "subslide"
    }
   },
   "outputs": [
    {
     "data": {
      "text/plain": [
       "failed        238211\n",
       "successful    133851\n",
       "Name: state, dtype: int64"
      ]
     },
     "execution_count": 10,
     "metadata": {},
     "output_type": "execute_result"
    }
   ],
   "source": [
    "# change the target variable to failed / successful\n",
    "kickstar= kickstar.replace({'state': {'canceled': 'failed', 'suspended': 'failed'}})\n",
    "kickstar = kickstar[kickstar.state.isin(['failed', 'successful'])]\n",
    "# check the data\n",
    "kickstar['state'].value_counts()"
   ]
  },
  {
   "cell_type": "markdown",
   "id": "94afbb3f",
   "metadata": {
    "slideshow": {
     "slide_type": "subslide"
    }
   },
   "source": [
    "### Summary for Data Cleaning\n",
    "\n",
    "- 1) remove na rows:\n",
    "    there are 3801 rows contain null value, after cleaning, we have 374860 rows in our dataset.\n",
    "\n",
    "- 2) remove redundant columns:\n",
    "    - there are usd_pledged, usd_pledged real and pledged in the ds. usd_pledged is usd value not adjusted by inflation pledged is the value in foreign currencies, usd_pledged_real is the most appropriate one to use. - - - There are also two \"goal\", and we drop the one without inflation adjustment. \n",
    "    - category is sub_category embedded in each main_category. Main_category would be enough for us to learn general category information.\n"
   ]
  },
  {
   "cell_type": "markdown",
   "id": "d0d0c418",
   "metadata": {
    "slideshow": {
     "slide_type": "subslide"
    }
   },
   "source": [
    "- 3) create new columns:\n",
    "    - duration: project's duration. Duration of the project is related to how many people see the project, and thus it is a potential factor for the success of the project.\n",
    "    \n",
    "    - year: project's deadline year. Since 2014, crowdfunding has been very popular online. Thus year can be a potential factor that trend might affect the success of the project.\n",
    "    \n",
    "    - length of project name: the length of the project's name. People might be impatient with reading a project with a long title. Thus, it may be a potential factor that affects how many people see and fund the project.\n",
    "    \n",
    "- 4) reset five alternatives of target value \"state\" to two alternatives: successful/failed\n",
    "    - we are interested in learning how to let the project owners to have successful projects. So, we only select successful projects and failed projects. There are 133851 successful projects, and 238211 failed projects."
   ]
  },
  {
   "cell_type": "markdown",
   "id": "5ae183a6",
   "metadata": {
    "slideshow": {
     "slide_type": "slide"
    }
   },
   "source": [
    "## Exploratory Data Analysis \n",
    "\n",
    "### Visualize the distribution of successful/failed projects in a pie.\n",
    "\n",
    "\n",
    "### Q1:  Any correlation among numerical variables that would affect our model?\n",
    "\n",
    "From the result, we could see that backers are highly correlated to usd_pledged_real 75.3%.\n",
    "we propose the reasoning that if the project has more backers, it would have higher usd pledged value. \n",
    "\n",
    "### Q2: Among all categories, which category has the most successful project?\n",
    "\n",
    "Music Category\n",
    "\n",
    "\n",
    "### Q4: Which category has the highest pledged over goal rate?\n",
    "\n",
    "Dance\n"
   ]
  },
  {
   "cell_type": "code",
   "execution_count": 11,
   "id": "cda95769",
   "metadata": {
    "slideshow": {
     "slide_type": "subslide"
    }
   },
   "outputs": [
    {
     "data": {
      "image/png": "[encoded data removed]",
      "text/plain": [
       "<Figure size 648x648 with 1 Axes>"
      ]
     },
     "metadata": {},
     "output_type": "display_data"
    }
   ],
   "source": [
    "# Visualize the distribution of successful/failed projects in a pie\n",
    "\n",
    "pie_ax = kickstar['state'].value_counts(normalize=True).plot.pie(figsize=(9,9),\n",
    "                                                              legend=True,shadow=True, autopct='%1.1f%%' ,\n",
    "                                                              pctdistance=0.75, radius=1.05, \n",
    "                                                            wedgeprops = {'linewidth': 0.1}, \n",
    "                                                              textprops = {'fontsize': 14})\n",
    "\n",
    "pie_ax.set_title('Projects state distribution', fontsize=16, weight='bold')\n",
    "pie_ax.legend(fancybox=True, shadow=True, title='State', fontsize=11)\n",
    "pie_ax.set_ylabel(\"\")\n",
    "plt.show()"
   ]
  },
  {
   "cell_type": "markdown",
   "id": "2bd5241c",
   "metadata": {
    "slideshow": {
     "slide_type": "skip"
    }
   },
   "source": [
    "Summary: There are 64% failed projects and 36% successful projects in the dataset. It is a good split for future analysis."
   ]
  },
  {
   "cell_type": "markdown",
   "id": "949930fa",
   "metadata": {
    "slideshow": {
     "slide_type": "subslide"
    }
   },
   "source": [
    "### Q1:  Any correlation among numerical variables that would affect our model?"
   ]
  },
  {
   "cell_type": "code",
   "execution_count": 12,
   "id": "f9a93ff1",
   "metadata": {
    "slideshow": {
     "slide_type": "subslide"
    }
   },
   "outputs": [
    {
     "name": "stdout",
     "output_type": "stream",
     "text": [
      "                  usd_pledged_real  usd_goal_real   backers  duration  \\\n",
      "usd_pledged_real          1.000000       0.005638  0.753399  0.000916   \n",
      "usd_goal_real             0.005638       1.000000  0.004542  0.004194   \n",
      "backers                   0.753399       0.004542  1.000000 -0.000809   \n",
      "duration                  0.000916       0.004194 -0.000809  1.000000   \n",
      "year                      0.022562       0.013107  0.016687 -0.036734   \n",
      "name_length               0.028642      -0.003826  0.020174  0.008477   \n",
      "\n",
      "                      year  name_length  \n",
      "usd_pledged_real  0.022562     0.028642  \n",
      "usd_goal_real     0.013107    -0.003826  \n",
      "backers           0.016687     0.020174  \n",
      "duration         -0.036734     0.008477  \n",
      "year              1.000000    -0.053637  \n",
      "name_length      -0.053637     1.000000  \n"
     ]
    },
    {
     "data": {
      "image/png": "[encoded data removed]",
      "text/plain": [
       "<Figure size 432x288 with 2 Axes>"
      ]
     },
     "metadata": {
      "needs_background": "light"
     },
     "output_type": "display_data"
    }
   ],
   "source": [
    "#check for any correlation among float variables \n",
    "correlation_x = kickstar[['usd_pledged_real','usd_goal_real','backers', 'duration', 'year', 'name_length']]\n",
    "print(correlation_x.corr())\n",
    "\n",
    "# From the result, we could see that backers are highly correlated to usd_pledged_real 75.3%\n",
    "# we propose the reasoning that if the project has more backers, it would have higher usd pledged value. \n",
    "\n",
    "# plot the correlation matrix\n",
    "sns.heatmap(correlation_x.corr(), annot = True, cmap = \"BuPu\")\n",
    "plt.show()"
   ]
  },
  {
   "cell_type": "markdown",
   "id": "2c563815",
   "metadata": {
    "slideshow": {
     "slide_type": "skip"
    }
   },
   "source": [
    "Summary: From the result, we could see that backers are highly correlated to usd_pledged_real 75.3%"
   ]
  },
  {
   "cell_type": "markdown",
   "id": "bdbd3910",
   "metadata": {
    "slideshow": {
     "slide_type": "subslide"
    }
   },
   "source": [
    "### Q2: Among all categories, which category has the most successful project?"
   ]
  },
  {
   "cell_type": "code",
   "execution_count": 13,
   "id": "4fe7dd62",
   "metadata": {
    "slideshow": {
     "slide_type": "subslide"
    }
   },
   "outputs": [
    {
     "data": {
      "text/plain": [
       "Text(0.5, 1.0, 'Successful Projects in Categories')"
      ]
     },
     "execution_count": 13,
     "metadata": {},
     "output_type": "execute_result"
    },
    {
     "data": {
      "image/png": "[encoded data removed]",
      "text/plain": [
       "<Figure size 1440x360 with 1 Axes>"
      ]
     },
     "metadata": {
      "needs_background": "light"
     },
     "output_type": "display_data"
    }
   ],
   "source": [
    "# count for number of successful proejcts v.s. failed projects in each category\n",
    "plt.figure(figsize=(20, 5))\n",
    "sns.countplot(x='main_category', data=kickstar, hue='state').set_title('Successful Projects in Categories')"
   ]
  },
  {
   "cell_type": "markdown",
   "id": "72cf2f1b",
   "metadata": {
    "slideshow": {
     "slide_type": "skip"
    }
   },
   "source": [
    "Summary: From the result, we could see that Music, Film & Video, Games have the most successful projects."
   ]
  },
  {
   "cell_type": "markdown",
   "id": "43dac861",
   "metadata": {
    "slideshow": {
     "slide_type": "subslide"
    }
   },
   "source": [
    "## Q4 Which category has the highest pledged over goal rate?\n",
    "In the dataset setting, the successful project is defined as having pledged value met by its goal. However, We think that a successful project should have enough \"pledged value\" funding to support its execution.\n",
    "\n",
    "Thus, we are interested in learning what project category has the largest percent of pledge over goal rate. \n",
    "\n",
    "In this case, we rank different categories in respect to their pledge over goal rate. The project owner may get an average sense of the possibility that its project would be successful on the kickstar platform."
   ]
  },
  {
   "cell_type": "code",
   "execution_count": 55,
   "id": "c020a45d",
   "metadata": {
    "slideshow": {
     "slide_type": "subslide"
    }
   },
   "outputs": [],
   "source": [
    "# find out the pledged over goal rate for each category\n",
    "\n",
    "pledge_median = (kickstar.groupby(kickstar[\"main_category\"]).median()[[\"usd_goal_real\"]].reset_index())\n",
    "pledge_median = pledge_median.sort_values(by=[\"usd_goal_real\"], ascending=False)\n",
    "\n",
    "goal_median = (kickstar.groupby(kickstar[\"main_category\"]).median()[[\"usd_pledged_real\"]].reset_index())\n",
    "goal_median = goal_median.sort_values(by=[\"usd_pledged_real\"], ascending=False)\n",
    "\n",
    "goal_vs_pledged = goal_median.merge(pledge_median, how=\"outer\", on=\"main_category\")"
   ]
  },
  {
   "cell_type": "code",
   "execution_count": 56,
   "id": "5b88404c",
   "metadata": {
    "slideshow": {
     "slide_type": "subslide"
    }
   },
   "outputs": [
    {
     "data": {
      "text/html": [
       "<style type=\"text/css\">\n",
       "#T_206b0_row0_col1, #T_206b0_row0_col4, #T_206b0_row13_col2 {\n",
       "  width: 10em;\n",
       "  height: 80%;\n",
       "  background: linear-gradient(90deg,#5fba7d 100.0%, transparent 100.0%);\n",
       "}\n",
       "#T_206b0_row0_col2 {\n",
       "  width: 10em;\n",
       "  height: 80%;\n",
       "  background: linear-gradient(90deg,#5fba7d 16.7%, transparent 16.7%);\n",
       "}\n",
       "#T_206b0_row0_col3 {\n",
       "  width: 10em;\n",
       "  height: 80%;\n",
       "  background: linear-gradient(90deg, transparent 92.6%, #d65f5f 92.6%, #d65f5f 100.0%, transparent 100.0%);\n",
       "}\n",
       "#T_206b0_row1_col1 {\n",
       "  width: 10em;\n",
       "  height: 80%;\n",
       "  background: linear-gradient(90deg,#5fba7d 84.2%, transparent 84.2%);\n",
       "}\n",
       "#T_206b0_row1_col2 {\n",
       "  width: 10em;\n",
       "  height: 80%;\n",
       "  background: linear-gradient(90deg,#5fba7d 16.5%, transparent 16.5%);\n",
       "}\n",
       "#T_206b0_row1_col3 {\n",
       "  width: 10em;\n",
       "  height: 80%;\n",
       "  background: linear-gradient(90deg, transparent 91.2%, #d65f5f 91.2%, #d65f5f 100.0%, transparent 100.0%);\n",
       "}\n",
       "#T_206b0_row1_col4 {\n",
       "  width: 10em;\n",
       "  height: 80%;\n",
       "  background: linear-gradient(90deg,#5fba7d 85.0%, transparent 85.0%);\n",
       "}\n",
       "#T_206b0_row2_col1 {\n",
       "  width: 10em;\n",
       "  height: 80%;\n",
       "  background: linear-gradient(90deg,#5fba7d 80.9%, transparent 80.9%);\n",
       "}\n",
       "#T_206b0_row2_col2 {\n",
       "  width: 10em;\n",
       "  height: 80%;\n",
       "  background: linear-gradient(90deg,#5fba7d 17.7%, transparent 17.7%);\n",
       "}\n",
       "#T_206b0_row2_col3 {\n",
       "  width: 10em;\n",
       "  height: 80%;\n",
       "  background: linear-gradient(90deg, transparent 89.7%, #d65f5f 89.7%, #d65f5f 100.0%, transparent 100.0%);\n",
       "}\n",
       "#T_206b0_row2_col4 {\n",
       "  width: 10em;\n",
       "  height: 80%;\n",
       "  background: linear-gradient(90deg,#5fba7d 76.2%, transparent 76.2%);\n",
       "}\n",
       "#T_206b0_row3_col1 {\n",
       "  width: 10em;\n",
       "  height: 80%;\n",
       "  background: linear-gradient(90deg,#5fba7d 54.1%, transparent 54.1%);\n",
       "}\n",
       "#T_206b0_row3_col2, #T_206b0_row8_col2 {\n",
       "  width: 10em;\n",
       "  height: 80%;\n",
       "  background: linear-gradient(90deg,#5fba7d 20.2%, transparent 20.2%);\n",
       "}\n",
       "#T_206b0_row3_col3 {\n",
       "  width: 10em;\n",
       "  height: 80%;\n",
       "  background: linear-gradient(90deg, transparent 84.6%, #d65f5f 84.6%, #d65f5f 100.0%, transparent 100.0%);\n",
       "}\n",
       "#T_206b0_row3_col4 {\n",
       "  width: 10em;\n",
       "  height: 80%;\n",
       "  background: linear-gradient(90deg,#5fba7d 44.7%, transparent 44.7%);\n",
       "}\n",
       "#T_206b0_row4_col1 {\n",
       "  width: 10em;\n",
       "  height: 80%;\n",
       "  background: linear-gradient(90deg,#5fba7d 99.5%, transparent 99.5%);\n",
       "}\n",
       "#T_206b0_row4_col2, #T_206b0_row12_col2 {\n",
       "  width: 10em;\n",
       "  height: 80%;\n",
       "  background: linear-gradient(90deg,#5fba7d 50.5%, transparent 50.5%);\n",
       "}\n",
       "#T_206b0_row4_col3 {\n",
       "  width: 10em;\n",
       "  height: 80%;\n",
       "  background: linear-gradient(90deg, transparent 58.2%, #d65f5f 58.2%, #d65f5f 100.0%, transparent 100.0%);\n",
       "}\n",
       "#T_206b0_row4_col4 {\n",
       "  width: 10em;\n",
       "  height: 80%;\n",
       "  background: linear-gradient(90deg,#5fba7d 32.9%, transparent 32.9%);\n",
       "}\n",
       "#T_206b0_row5_col1 {\n",
       "  width: 10em;\n",
       "  height: 80%;\n",
       "  background: linear-gradient(90deg,#5fba7d 67.3%, transparent 67.3%);\n",
       "}\n",
       "#T_206b0_row5_col2 {\n",
       "  width: 10em;\n",
       "  height: 80%;\n",
       "  background: linear-gradient(90deg,#5fba7d 40.4%, transparent 40.4%);\n",
       "}\n",
       "#T_206b0_row5_col3 {\n",
       "  width: 10em;\n",
       "  height: 80%;\n",
       "  background: linear-gradient(90deg, transparent 65.4%, #d65f5f 65.4%, #d65f5f 100.0%, transparent 100.0%);\n",
       "}\n",
       "#T_206b0_row5_col4 {\n",
       "  width: 10em;\n",
       "  height: 80%;\n",
       "  background: linear-gradient(90deg,#5fba7d 27.8%, transparent 27.8%);\n",
       "}\n",
       "#T_206b0_row6_col1 {\n",
       "  width: 10em;\n",
       "  height: 80%;\n",
       "  background: linear-gradient(90deg,#5fba7d 22.9%, transparent 22.9%);\n",
       "}\n",
       "#T_206b0_row6_col2 {\n",
       "  width: 10em;\n",
       "  height: 80%;\n",
       "  background: linear-gradient(90deg,#5fba7d 15.2%, transparent 15.2%);\n",
       "}\n",
       "#T_206b0_row6_col3 {\n",
       "  width: 10em;\n",
       "  height: 80%;\n",
       "  background: linear-gradient(90deg, transparent 86.8%, #d65f5f 86.8%, #d65f5f 100.0%, transparent 100.0%);\n",
       "}\n",
       "#T_206b0_row6_col4 {\n",
       "  width: 10em;\n",
       "  height: 80%;\n",
       "  background: linear-gradient(90deg,#5fba7d 25.2%, transparent 25.2%);\n",
       "}\n",
       "#T_206b0_row7_col1 {\n",
       "  width: 10em;\n",
       "  height: 80%;\n",
       "  background: linear-gradient(90deg,#5fba7d 41.0%, transparent 41.0%);\n",
       "}\n",
       "#T_206b0_row7_col2 {\n",
       "  width: 10em;\n",
       "  height: 80%;\n",
       "  background: linear-gradient(90deg,#5fba7d 35.1%, transparent 35.1%);\n",
       "}\n",
       "#T_206b0_row7_col3 {\n",
       "  width: 10em;\n",
       "  height: 80%;\n",
       "  background: linear-gradient(90deg, transparent 68.3%, #d65f5f 68.3%, #d65f5f 100.0%, transparent 100.0%);\n",
       "}\n",
       "#T_206b0_row7_col4 {\n",
       "  width: 10em;\n",
       "  height: 80%;\n",
       "  background: linear-gradient(90deg,#5fba7d 19.5%, transparent 19.5%);\n",
       "}\n",
       "#T_206b0_row8_col1 {\n",
       "  width: 10em;\n",
       "  height: 80%;\n",
       "  background: linear-gradient(90deg,#5fba7d 12.9%, transparent 12.9%);\n",
       "}\n",
       "#T_206b0_row8_col3 {\n",
       "  width: 10em;\n",
       "  height: 80%;\n",
       "  background: linear-gradient(90deg, transparent 80.7%, #d65f5f 80.7%, #d65f5f 100.0%, transparent 100.0%);\n",
       "}\n",
       "#T_206b0_row8_col4 {\n",
       "  width: 10em;\n",
       "  height: 80%;\n",
       "  background: linear-gradient(90deg,#5fba7d 10.7%, transparent 10.7%);\n",
       "}\n",
       "#T_206b0_row9_col1 {\n",
       "  width: 10em;\n",
       "  height: 80%;\n",
       "  background: linear-gradient(90deg,#5fba7d 15.7%, transparent 15.7%);\n",
       "}\n",
       "#T_206b0_row9_col2, #T_206b0_row14_col2 {\n",
       "  width: 10em;\n",
       "  height: 80%;\n",
       "  background: linear-gradient(90deg,#5fba7d 25.3%, transparent 25.3%);\n",
       "}\n",
       "#T_206b0_row9_col3 {\n",
       "  width: 10em;\n",
       "  height: 80%;\n",
       "  background: linear-gradient(90deg, transparent 75.8%, #d65f5f 75.8%, #d65f5f 100.0%, transparent 100.0%);\n",
       "}\n",
       "#T_206b0_row9_col4 {\n",
       "  width: 10em;\n",
       "  height: 80%;\n",
       "  background: linear-gradient(90deg,#5fba7d 10.3%, transparent 10.3%);\n",
       "}\n",
       "#T_206b0_row10_col1 {\n",
       "  width: 10em;\n",
       "  height: 80%;\n",
       "  background: linear-gradient(90deg,#5fba7d 13.0%, transparent 13.0%);\n",
       "}\n",
       "#T_206b0_row10_col2 {\n",
       "  width: 10em;\n",
       "  height: 80%;\n",
       "  background: linear-gradient(90deg,#5fba7d 29.7%, transparent 29.7%);\n",
       "}\n",
       "#T_206b0_row10_col3 {\n",
       "  width: 10em;\n",
       "  height: 80%;\n",
       "  background: linear-gradient(90deg, transparent 71.1%, #d65f5f 71.1%, #d65f5f 100.0%, transparent 100.0%);\n",
       "}\n",
       "#T_206b0_row10_col4 {\n",
       "  width: 10em;\n",
       "  height: 80%;\n",
       "  background: linear-gradient(90deg,#5fba7d 7.3%, transparent 7.3%);\n",
       "}\n",
       "#T_206b0_row11_col1 {\n",
       "  width: 10em;\n",
       "  height: 80%;\n",
       "  background: linear-gradient(90deg,#5fba7d 5.1%, transparent 5.1%);\n",
       "}\n",
       "#T_206b0_row11_col2 {\n",
       "  width: 10em;\n",
       "  height: 80%;\n",
       "  background: linear-gradient(90deg,#5fba7d 11.8%, transparent 11.8%);\n",
       "}\n",
       "#T_206b0_row11_col3 {\n",
       "  width: 10em;\n",
       "  height: 80%;\n",
       "  background: linear-gradient(90deg, transparent 88.5%, #d65f5f 88.5%, #d65f5f 100.0%, transparent 100.0%);\n",
       "}\n",
       "#T_206b0_row11_col4 {\n",
       "  width: 10em;\n",
       "  height: 80%;\n",
       "  background: linear-gradient(90deg,#5fba7d 7.2%, transparent 7.2%);\n",
       "}\n",
       "#T_206b0_row12_col1 {\n",
       "  width: 10em;\n",
       "  height: 80%;\n",
       "  background: linear-gradient(90deg,#5fba7d 13.7%, transparent 13.7%);\n",
       "}\n",
       "#T_206b0_row12_col3 {\n",
       "  width: 10em;\n",
       "  height: 80%;\n",
       "  background: linear-gradient(90deg, transparent 50.0%, #d65f5f 50.0%, #d65f5f 100.0%, transparent 100.0%);\n",
       "}\n",
       "#T_206b0_row12_col4 {\n",
       "  width: 10em;\n",
       "  height: 80%;\n",
       "  background: linear-gradient(90deg,#5fba7d 4.5%, transparent 4.5%);\n",
       "}\n",
       "#T_206b0_row13_col1 {\n",
       "  width: 10em;\n",
       "  height: 80%;\n",
       "  background: linear-gradient(90deg,#5fba7d 16.2%, transparent 16.2%);\n",
       "}\n",
       "#T_206b0_row13_col3 {\n",
       "  width: 10em;\n",
       "  height: 80%;\n",
       "  background: linear-gradient(90deg,#d65f5f 100.0%, transparent 100.0%);\n",
       "}\n",
       "#T_206b0_row13_col4 {\n",
       "  width: 10em;\n",
       "  height: 80%;\n",
       "  background: linear-gradient(90deg,#5fba7d 2.7%, transparent 2.7%);\n",
       "}\n",
       "#T_206b0_row14_col1 {\n",
       "  width: 10em;\n",
       "  height: 80%;\n",
       "  background: linear-gradient(90deg,#5fba7d 2.8%, transparent 2.8%);\n",
       "}\n",
       "#T_206b0_row14_col3 {\n",
       "  width: 10em;\n",
       "  height: 80%;\n",
       "  background: linear-gradient(90deg, transparent 74.6%, #d65f5f 74.6%, #d65f5f 100.0%, transparent 100.0%);\n",
       "}\n",
       "#T_206b0_row14_col4 {\n",
       "  width: 10em;\n",
       "  height: 80%;\n",
       "  background: linear-gradient(90deg,#5fba7d 1.9%, transparent 1.9%);\n",
       "}\n",
       "</style>\n",
       "<table id=\"T_206b0_\">\n",
       "  <thead>\n",
       "    <tr>\n",
       "      <th class=\"blank level0\" >&nbsp;</th>\n",
       "      <th class=\"col_heading level0 col0\" >main_category</th>\n",
       "      <th class=\"col_heading level0 col1\" >usd_pledged_real</th>\n",
       "      <th class=\"col_heading level0 col2\" >usd_goal_real</th>\n",
       "      <th class=\"col_heading level0 col3\" >pledged_minus_goal</th>\n",
       "      <th class=\"col_heading level0 col4\" >pledged_over_goal_rate</th>\n",
       "    </tr>\n",
       "  </thead>\n",
       "  <tbody>\n",
       "    <tr>\n",
       "      <th id=\"T_206b0_level0_row0\" class=\"row_heading level0 row0\" >0</th>\n",
       "      <td id=\"T_206b0_row0_col0\" class=\"data row0 col0\" >Dance</td>\n",
       "      <td id=\"T_206b0_row0_col1\" class=\"data row0 col1\" >1855.000000</td>\n",
       "      <td id=\"T_206b0_row0_col2\" class=\"data row0 col2\" >3300.000000</td>\n",
       "      <td id=\"T_206b0_row0_col3\" class=\"data row0 col3\" >-1445.000000</td>\n",
       "      <td id=\"T_206b0_row0_col4\" class=\"data row0 col4\" >0.562121</td>\n",
       "    </tr>\n",
       "    <tr>\n",
       "      <th id=\"T_206b0_level0_row1\" class=\"row_heading level0 row1\" >2</th>\n",
       "      <td id=\"T_206b0_row1_col0\" class=\"data row1 col0\" >Theater</td>\n",
       "      <td id=\"T_206b0_row1_col1\" class=\"data row1 col1\" >1561.000000</td>\n",
       "      <td id=\"T_206b0_row1_col2\" class=\"data row1 col2\" >3268.940000</td>\n",
       "      <td id=\"T_206b0_row1_col3\" class=\"data row1 col3\" >-1707.940000</td>\n",
       "      <td id=\"T_206b0_row1_col4\" class=\"data row1 col4\" >0.477525</td>\n",
       "    </tr>\n",
       "    <tr>\n",
       "      <th id=\"T_206b0_level0_row2\" class=\"row_heading level0 row2\" >3</th>\n",
       "      <td id=\"T_206b0_row2_col0\" class=\"data row2 col0\" >Comics</td>\n",
       "      <td id=\"T_206b0_row2_col1\" class=\"data row2 col1\" >1500.000000</td>\n",
       "      <td id=\"T_206b0_row2_col2\" class=\"data row2 col2\" >3500.000000</td>\n",
       "      <td id=\"T_206b0_row2_col3\" class=\"data row2 col3\" >-2000.000000</td>\n",
       "      <td id=\"T_206b0_row2_col4\" class=\"data row2 col4\" >0.428571</td>\n",
       "    </tr>\n",
       "    <tr>\n",
       "      <th id=\"T_206b0_level0_row3\" class=\"row_heading level0 row3\" >5</th>\n",
       "      <td id=\"T_206b0_row3_col0\" class=\"data row3 col0\" >Music</td>\n",
       "      <td id=\"T_206b0_row3_col1\" class=\"data row3 col1\" >1004.000000</td>\n",
       "      <td id=\"T_206b0_row3_col2\" class=\"data row3 col2\" >4000.000000</td>\n",
       "      <td id=\"T_206b0_row3_col3\" class=\"data row3 col3\" >-2996.000000</td>\n",
       "      <td id=\"T_206b0_row3_col4\" class=\"data row3 col4\" >0.251000</td>\n",
       "    </tr>\n",
       "    <tr>\n",
       "      <th id=\"T_206b0_level0_row4\" class=\"row_heading level0 row4\" >1</th>\n",
       "      <td id=\"T_206b0_row4_col0\" class=\"data row4 col0\" >Design</td>\n",
       "      <td id=\"T_206b0_row4_col1\" class=\"data row4 col1\" >1846.640000</td>\n",
       "      <td id=\"T_206b0_row4_col2\" class=\"data row4 col2\" >10000.000000</td>\n",
       "      <td id=\"T_206b0_row4_col3\" class=\"data row4 col3\" >-8153.360000</td>\n",
       "      <td id=\"T_206b0_row4_col4\" class=\"data row4 col4\" >0.184664</td>\n",
       "    </tr>\n",
       "    <tr>\n",
       "      <th id=\"T_206b0_level0_row5\" class=\"row_heading level0 row5\" >4</th>\n",
       "      <td id=\"T_206b0_row5_col0\" class=\"data row5 col0\" >Games</td>\n",
       "      <td id=\"T_206b0_row5_col1\" class=\"data row5 col1\" >1248.000000</td>\n",
       "      <td id=\"T_206b0_row5_col2\" class=\"data row5 col2\" >8000.000000</td>\n",
       "      <td id=\"T_206b0_row5_col3\" class=\"data row5 col3\" >-6752.000000</td>\n",
       "      <td id=\"T_206b0_row5_col4\" class=\"data row5 col4\" >0.156000</td>\n",
       "    </tr>\n",
       "    <tr>\n",
       "      <th id=\"T_206b0_level0_row6\" class=\"row_heading level0 row6\" >7</th>\n",
       "      <td id=\"T_206b0_row6_col0\" class=\"data row6 col0\" >Art</td>\n",
       "      <td id=\"T_206b0_row6_col1\" class=\"data row6 col1\" >425.670000</td>\n",
       "      <td id=\"T_206b0_row6_col2\" class=\"data row6 col2\" >3000.000000</td>\n",
       "      <td id=\"T_206b0_row6_col3\" class=\"data row6 col3\" >-2574.330000</td>\n",
       "      <td id=\"T_206b0_row6_col4\" class=\"data row6 col4\" >0.141890</td>\n",
       "    </tr>\n",
       "    <tr>\n",
       "      <th id=\"T_206b0_level0_row7\" class=\"row_heading level0 row7\" >6</th>\n",
       "      <td id=\"T_206b0_row7_col0\" class=\"data row7 col0\" >Film & Video</td>\n",
       "      <td id=\"T_206b0_row7_col1\" class=\"data row7 col1\" >760.000000</td>\n",
       "      <td id=\"T_206b0_row7_col2\" class=\"data row7 col2\" >6938.830000</td>\n",
       "      <td id=\"T_206b0_row7_col3\" class=\"data row7 col3\" >-6178.830000</td>\n",
       "      <td id=\"T_206b0_row7_col4\" class=\"data row7 col4\" >0.109529</td>\n",
       "    </tr>\n",
       "    <tr>\n",
       "      <th id=\"T_206b0_level0_row8\" class=\"row_heading level0 row8\" >12</th>\n",
       "      <td id=\"T_206b0_row8_col0\" class=\"data row8 col0\" >Photography</td>\n",
       "      <td id=\"T_206b0_row8_col1\" class=\"data row8 col1\" >240.000000</td>\n",
       "      <td id=\"T_206b0_row8_col2\" class=\"data row8 col2\" >4000.000000</td>\n",
       "      <td id=\"T_206b0_row8_col3\" class=\"data row8 col3\" >-3760.000000</td>\n",
       "      <td id=\"T_206b0_row8_col4\" class=\"data row8 col4\" >0.060000</td>\n",
       "    </tr>\n",
       "    <tr>\n",
       "      <th id=\"T_206b0_level0_row9\" class=\"row_heading level0 row9\" >9</th>\n",
       "      <td id=\"T_206b0_row9_col0\" class=\"data row9 col0\" >Publishing</td>\n",
       "      <td id=\"T_206b0_row9_col1\" class=\"data row9 col1\" >290.820000</td>\n",
       "      <td id=\"T_206b0_row9_col2\" class=\"data row9 col2\" >5000.000000</td>\n",
       "      <td id=\"T_206b0_row9_col3\" class=\"data row9 col3\" >-4709.180000</td>\n",
       "      <td id=\"T_206b0_row9_col4\" class=\"data row9 col4\" >0.058164</td>\n",
       "    </tr>\n",
       "    <tr>\n",
       "      <th id=\"T_206b0_level0_row10\" class=\"row_heading level0 row10\" >11</th>\n",
       "      <td id=\"T_206b0_row10_col0\" class=\"data row10 col0\" >Fashion</td>\n",
       "      <td id=\"T_206b0_row10_col1\" class=\"data row10 col1\" >242.000000</td>\n",
       "      <td id=\"T_206b0_row10_col2\" class=\"data row10 col2\" >5871.030000</td>\n",
       "      <td id=\"T_206b0_row10_col3\" class=\"data row10 col3\" >-5629.030000</td>\n",
       "      <td id=\"T_206b0_row10_col4\" class=\"data row10 col4\" >0.041219</td>\n",
       "    </tr>\n",
       "    <tr>\n",
       "      <th id=\"T_206b0_level0_row11\" class=\"row_heading level0 row11\" >13</th>\n",
       "      <td id=\"T_206b0_row11_col0\" class=\"data row11 col0\" >Crafts</td>\n",
       "      <td id=\"T_206b0_row11_col1\" class=\"data row11 col1\" >94.140000</td>\n",
       "      <td id=\"T_206b0_row11_col2\" class=\"data row11 col2\" >2327.640000</td>\n",
       "      <td id=\"T_206b0_row11_col3\" class=\"data row11 col3\" >-2233.500000</td>\n",
       "      <td id=\"T_206b0_row11_col4\" class=\"data row11 col4\" >0.040444</td>\n",
       "    </tr>\n",
       "    <tr>\n",
       "      <th id=\"T_206b0_level0_row12\" class=\"row_heading level0 row12\" >10</th>\n",
       "      <td id=\"T_206b0_row12_col0\" class=\"data row12 col0\" >Food</td>\n",
       "      <td id=\"T_206b0_row12_col1\" class=\"data row12 col1\" >255.000000</td>\n",
       "      <td id=\"T_206b0_row12_col2\" class=\"data row12 col2\" >10000.000000</td>\n",
       "      <td id=\"T_206b0_row12_col3\" class=\"data row12 col3\" >-9745.000000</td>\n",
       "      <td id=\"T_206b0_row12_col4\" class=\"data row12 col4\" >0.025500</td>\n",
       "    </tr>\n",
       "    <tr>\n",
       "      <th id=\"T_206b0_level0_row13\" class=\"row_heading level0 row13\" >8</th>\n",
       "      <td id=\"T_206b0_row13_col0\" class=\"data row13 col0\" >Technology</td>\n",
       "      <td id=\"T_206b0_row13_col1\" class=\"data row13 col1\" >301.000000</td>\n",
       "      <td id=\"T_206b0_row13_col2\" class=\"data row13 col2\" >19793.620000</td>\n",
       "      <td id=\"T_206b0_row13_col3\" class=\"data row13 col3\" >-19492.620000</td>\n",
       "      <td id=\"T_206b0_row13_col4\" class=\"data row13 col4\" >0.015207</td>\n",
       "    </tr>\n",
       "    <tr>\n",
       "      <th id=\"T_206b0_level0_row14\" class=\"row_heading level0 row14\" >14</th>\n",
       "      <td id=\"T_206b0_row14_col0\" class=\"data row14 col0\" >Journalism</td>\n",
       "      <td id=\"T_206b0_row14_col1\" class=\"data row14 col1\" >52.000000</td>\n",
       "      <td id=\"T_206b0_row14_col2\" class=\"data row14 col2\" >5000.000000</td>\n",
       "      <td id=\"T_206b0_row14_col3\" class=\"data row14 col3\" >-4948.000000</td>\n",
       "      <td id=\"T_206b0_row14_col4\" class=\"data row14 col4\" >0.010400</td>\n",
       "    </tr>\n",
       "  </tbody>\n",
       "</table>\n"
      ],
      "text/plain": [
       "<pandas.io.formats.style.Styler at 0x7ffdcd5f47c0>"
      ]
     },
     "execution_count": 56,
     "metadata": {},
     "output_type": "execute_result"
    }
   ],
   "source": [
    "goal_vs_pledged[\"pledged_minus_goal\"] = (goal_vs_pledged[\"usd_pledged_real\"] \n",
    "                                         - goal_vs_pledged[\"usd_goal_real\"])\n",
    "\n",
    "goal_vs_pledged[\"pledged_over_goal_rate\"] = (goal_vs_pledged[\"usd_pledged_real\"] / \n",
    "                                             goal_vs_pledged[\"usd_goal_real\"])\n",
    "\n",
    "goal_vs_pledged =goal_vs_pledged.sort_values(by=[\"pledged_over_goal_rate\"], ascending=False)\n",
    "\n",
    "goal_vs_pledged.style.bar(\n",
    "    subset=[\n",
    "        \"usd_goal_real\",\n",
    "        \"usd_pledged_real\",\n",
    "        \"pledged_minus_goal\",\n",
    "        \"pledged_over_goal_rate\",\n",
    "    ],\n",
    "    align=\"mid\",\n",
    "    color=[\"#d65f5f\", \"#5fba7d\"],\n",
    ")"
   ]
  },
  {
   "cell_type": "markdown",
   "id": "217beec4",
   "metadata": {
    "slideshow": {
     "slide_type": "subslide"
    }
   },
   "source": [
    "### EDA Conclusion\n",
    "1) From the correlation result, we could see that backers are highly correlated to usd_pledged_real 75.3%. We propose the reasoning that if the project has more backers, it would have higher usd pledged value. In the next step, we will avoid the problem of collinearity by removing \"pledged_value\" column\n",
    "\n",
    "2) We detect that Music category has the most successful projects, and so does its successful rate. We  recommend music project owner to crowdfund on the kickstar platform. Their projects seem to have greater probability to be successful according to the exploratory data.\n",
    "\n",
    "4) We see that Dance category has the highest pledged over goal rate. We assume that dance project owners de-value its projects, but those projects are intriguing to the public. Thus, we may recommend Dance, theatre, and comic projects owners to be more confident on their projects' goal value, they may win more than they expected."
   ]
  },
  {
   "cell_type": "markdown",
   "id": "912dd867",
   "metadata": {
    "slideshow": {
     "slide_type": "skip"
    }
   },
   "source": [
    "### EDA Part ll\n",
    "\n",
    "In addition to this, we also interested in seeing: \n",
    "\n",
    "- which country has the most successful projects\n",
    "\n",
    "- 1) what is the median number of backers for the category, \n",
    "- 2) what is the average duration of project for the category, \n",
    "- 3) what is the average length of project's name for the category, \n",
    "- 4) what is the median pledge and goal value for the category.\n",
    "\n",
    "The purpose for doing so is to help the project owner gets an average sense of what is his project's category should have in terms of backers, duration, length of project's name, pledge and goal value on the kickstar platform."
   ]
  },
  {
   "cell_type": "code",
   "execution_count": 15,
   "id": "d444132c",
   "metadata": {
    "scrolled": true,
    "slideshow": {
     "slide_type": "skip"
    }
   },
   "outputs": [
    {
     "data": {
      "text/plain": [
       "Text(0.5, 1.0, 'Successful Projects in Countries')"
      ]
     },
     "execution_count": 15,
     "metadata": {},
     "output_type": "execute_result"
    },
    {
     "data": {
      "image/png": "[encoded data removed]",
      "text/plain": [
       "<Figure size 1440x360 with 1 Axes>"
      ]
     },
     "metadata": {
      "needs_background": "light"
     },
     "output_type": "display_data"
    }
   ],
   "source": [
    "\n",
    "# count for number of successful proejcts v.s. failed projects in each country\n",
    "plt.figure(figsize=(20, 5))\n",
    "sns.countplot(x='country', data=kickstar, hue='state').set_title('Successful Projects in Countries')"
   ]
  },
  {
   "cell_type": "markdown",
   "id": "1112e4f5",
   "metadata": {
    "slideshow": {
     "slide_type": "skip"
    }
   },
   "source": [
    "Summary: country U.S. has the most successful projects, but not the successful rate. It is understandable because Kickstar is an American website, there are more american people using the website rather than european people."
   ]
  },
  {
   "cell_type": "code",
   "execution_count": 16,
   "id": "52b1e6f6",
   "metadata": {
    "slideshow": {
     "slide_type": "skip"
    }
   },
   "outputs": [
    {
     "data": {
      "text/html": [
       "<style type=\"text/css\">\n",
       "#T_c823f_row0_col1 {\n",
       "  width: 10em;\n",
       "  height: 80%;\n",
       "  background: linear-gradient(90deg,#5fba7d 100.0%, transparent 100.0%);\n",
       "}\n",
       "#T_c823f_row1_col1 {\n",
       "  width: 10em;\n",
       "  height: 80%;\n",
       "  background: linear-gradient(90deg,#5fba7d 75.0%, transparent 75.0%);\n",
       "}\n",
       "#T_c823f_row2_col1 {\n",
       "  width: 10em;\n",
       "  height: 80%;\n",
       "  background: linear-gradient(90deg,#5fba7d 72.5%, transparent 72.5%);\n",
       "}\n",
       "#T_c823f_row3_col1 {\n",
       "  width: 10em;\n",
       "  height: 80%;\n",
       "  background: linear-gradient(90deg,#5fba7d 67.5%, transparent 67.5%);\n",
       "}\n",
       "#T_c823f_row4_col1 {\n",
       "  width: 10em;\n",
       "  height: 80%;\n",
       "  background: linear-gradient(90deg,#5fba7d 62.5%, transparent 62.5%);\n",
       "}\n",
       "#T_c823f_row5_col1 {\n",
       "  width: 10em;\n",
       "  height: 80%;\n",
       "  background: linear-gradient(90deg,#5fba7d 47.5%, transparent 47.5%);\n",
       "}\n",
       "#T_c823f_row6_col1 {\n",
       "  width: 10em;\n",
       "  height: 80%;\n",
       "  background: linear-gradient(90deg,#5fba7d 30.0%, transparent 30.0%);\n",
       "}\n",
       "#T_c823f_row7_col1 {\n",
       "  width: 10em;\n",
       "  height: 80%;\n",
       "  background: linear-gradient(90deg,#5fba7d 25.0%, transparent 25.0%);\n",
       "}\n",
       "#T_c823f_row8_col1, #T_c823f_row9_col1 {\n",
       "  width: 10em;\n",
       "  height: 80%;\n",
       "  background: linear-gradient(90deg,#5fba7d 17.5%, transparent 17.5%);\n",
       "}\n",
       "#T_c823f_row10_col1, #T_c823f_row11_col1 {\n",
       "  width: 10em;\n",
       "  height: 80%;\n",
       "  background: linear-gradient(90deg,#5fba7d 15.0%, transparent 15.0%);\n",
       "}\n",
       "#T_c823f_row12_col1 {\n",
       "  width: 10em;\n",
       "  height: 80%;\n",
       "  background: linear-gradient(90deg,#5fba7d 12.5%, transparent 12.5%);\n",
       "}\n",
       "#T_c823f_row13_col1 {\n",
       "  width: 10em;\n",
       "  height: 80%;\n",
       "  background: linear-gradient(90deg,#5fba7d 7.5%, transparent 7.5%);\n",
       "}\n",
       "#T_c823f_row14_col1 {\n",
       "  width: 10em;\n",
       "  height: 80%;\n",
       "  background: linear-gradient(90deg,#5fba7d 5.0%, transparent 5.0%);\n",
       "}\n",
       "</style>\n",
       "<table id=\"T_c823f_\">\n",
       "  <thead>\n",
       "    <tr>\n",
       "      <th class=\"blank level0\" >&nbsp;</th>\n",
       "      <th class=\"col_heading level0 col0\" >main_category</th>\n",
       "      <th class=\"col_heading level0 col1\" >backers</th>\n",
       "    </tr>\n",
       "  </thead>\n",
       "  <tbody>\n",
       "    <tr>\n",
       "      <th id=\"T_c823f_level0_row0\" class=\"row_heading level0 row0\" >1</th>\n",
       "      <td id=\"T_c823f_row0_col0\" class=\"data row0 col0\" >Comics</td>\n",
       "      <td id=\"T_c823f_row0_col1\" class=\"data row0 col1\" >40.000000</td>\n",
       "    </tr>\n",
       "    <tr>\n",
       "      <th id=\"T_c823f_level0_row1\" class=\"row_heading level0 row1\" >8</th>\n",
       "      <td id=\"T_c823f_row1_col0\" class=\"data row1 col0\" >Games</td>\n",
       "      <td id=\"T_c823f_row1_col1\" class=\"data row1 col1\" >30.000000</td>\n",
       "    </tr>\n",
       "    <tr>\n",
       "      <th id=\"T_c823f_level0_row2\" class=\"row_heading level0 row2\" >4</th>\n",
       "      <td id=\"T_c823f_row2_col0\" class=\"data row2 col0\" >Design</td>\n",
       "      <td id=\"T_c823f_row2_col1\" class=\"data row2 col1\" >29.000000</td>\n",
       "    </tr>\n",
       "    <tr>\n",
       "      <th id=\"T_c823f_level0_row3\" class=\"row_heading level0 row3\" >3</th>\n",
       "      <td id=\"T_c823f_row3_col0\" class=\"data row3 col0\" >Dance</td>\n",
       "      <td id=\"T_c823f_row3_col1\" class=\"data row3 col1\" >27.000000</td>\n",
       "    </tr>\n",
       "    <tr>\n",
       "      <th id=\"T_c823f_level0_row4\" class=\"row_heading level0 row4\" >14</th>\n",
       "      <td id=\"T_c823f_row4_col0\" class=\"data row4 col0\" >Theater</td>\n",
       "      <td id=\"T_c823f_row4_col1\" class=\"data row4 col1\" >25.000000</td>\n",
       "    </tr>\n",
       "    <tr>\n",
       "      <th id=\"T_c823f_level0_row5\" class=\"row_heading level0 row5\" >10</th>\n",
       "      <td id=\"T_c823f_row5_col0\" class=\"data row5 col0\" >Music</td>\n",
       "      <td id=\"T_c823f_row5_col1\" class=\"data row5 col1\" >19.000000</td>\n",
       "    </tr>\n",
       "    <tr>\n",
       "      <th id=\"T_c823f_level0_row6\" class=\"row_heading level0 row6\" >6</th>\n",
       "      <td id=\"T_c823f_row6_col0\" class=\"data row6 col0\" >Film & Video</td>\n",
       "      <td id=\"T_c823f_row6_col1\" class=\"data row6 col1\" >12.000000</td>\n",
       "    </tr>\n",
       "    <tr>\n",
       "      <th id=\"T_c823f_level0_row7\" class=\"row_heading level0 row7\" >0</th>\n",
       "      <td id=\"T_c823f_row7_col0\" class=\"data row7 col0\" >Art</td>\n",
       "      <td id=\"T_c823f_row7_col1\" class=\"data row7 col1\" >10.000000</td>\n",
       "    </tr>\n",
       "    <tr>\n",
       "      <th id=\"T_c823f_level0_row8\" class=\"row_heading level0 row8\" >12</th>\n",
       "      <td id=\"T_c823f_row8_col0\" class=\"data row8 col0\" >Publishing</td>\n",
       "      <td id=\"T_c823f_row8_col1\" class=\"data row8 col1\" >7.000000</td>\n",
       "    </tr>\n",
       "    <tr>\n",
       "      <th id=\"T_c823f_level0_row9\" class=\"row_heading level0 row9\" >13</th>\n",
       "      <td id=\"T_c823f_row9_col0\" class=\"data row9 col0\" >Technology</td>\n",
       "      <td id=\"T_c823f_row9_col1\" class=\"data row9 col1\" >7.000000</td>\n",
       "    </tr>\n",
       "    <tr>\n",
       "      <th id=\"T_c823f_level0_row10\" class=\"row_heading level0 row10\" >7</th>\n",
       "      <td id=\"T_c823f_row10_col0\" class=\"data row10 col0\" >Food</td>\n",
       "      <td id=\"T_c823f_row10_col1\" class=\"data row10 col1\" >6.000000</td>\n",
       "    </tr>\n",
       "    <tr>\n",
       "      <th id=\"T_c823f_level0_row11\" class=\"row_heading level0 row11\" >11</th>\n",
       "      <td id=\"T_c823f_row11_col0\" class=\"data row11 col0\" >Photography</td>\n",
       "      <td id=\"T_c823f_row11_col1\" class=\"data row11 col1\" >6.000000</td>\n",
       "    </tr>\n",
       "    <tr>\n",
       "      <th id=\"T_c823f_level0_row12\" class=\"row_heading level0 row12\" >5</th>\n",
       "      <td id=\"T_c823f_row12_col0\" class=\"data row12 col0\" >Fashion</td>\n",
       "      <td id=\"T_c823f_row12_col1\" class=\"data row12 col1\" >5.000000</td>\n",
       "    </tr>\n",
       "    <tr>\n",
       "      <th id=\"T_c823f_level0_row13\" class=\"row_heading level0 row13\" >2</th>\n",
       "      <td id=\"T_c823f_row13_col0\" class=\"data row13 col0\" >Crafts</td>\n",
       "      <td id=\"T_c823f_row13_col1\" class=\"data row13 col1\" >3.000000</td>\n",
       "    </tr>\n",
       "    <tr>\n",
       "      <th id=\"T_c823f_level0_row14\" class=\"row_heading level0 row14\" >9</th>\n",
       "      <td id=\"T_c823f_row14_col0\" class=\"data row14 col0\" >Journalism</td>\n",
       "      <td id=\"T_c823f_row14_col1\" class=\"data row14 col1\" >2.000000</td>\n",
       "    </tr>\n",
       "  </tbody>\n",
       "</table>\n"
      ],
      "text/plain": [
       "<pandas.io.formats.style.Styler at 0x7ffdedeeafd0>"
      ]
     },
     "execution_count": 16,
     "metadata": {},
     "output_type": "execute_result"
    }
   ],
   "source": [
    "# Find out the median backers for each category\n",
    "backers_median = kickstar.groupby([\"main_category\"]).median()['backers'].reset_index()\n",
    "backers_median = backers_median.sort_values(by=[\"backers\"], ascending=False)\n",
    "\n",
    "backers_median.style.bar(subset=[\"backers\"], align=\"mid\", color=[\"#5fba7d\"])"
   ]
  },
  {
   "cell_type": "code",
   "execution_count": 17,
   "id": "a9b26411",
   "metadata": {
    "slideshow": {
     "slide_type": "skip"
    }
   },
   "outputs": [
    {
     "data": {
      "text/html": [
       "<style type=\"text/css\">\n",
       "#T_b5530_row0_col1 {\n",
       "  width: 10em;\n",
       "  height: 80%;\n",
       "  background: linear-gradient(90deg,#5fba7d 100.0%, transparent 100.0%);\n",
       "}\n",
       "#T_b5530_row1_col1 {\n",
       "  width: 10em;\n",
       "  height: 80%;\n",
       "  background: linear-gradient(90deg,#5fba7d 99.9%, transparent 99.9%);\n",
       "}\n",
       "#T_b5530_row2_col1 {\n",
       "  width: 10em;\n",
       "  height: 80%;\n",
       "  background: linear-gradient(90deg,#5fba7d 98.9%, transparent 98.9%);\n",
       "}\n",
       "#T_b5530_row3_col1, #T_b5530_row4_col1 {\n",
       "  width: 10em;\n",
       "  height: 80%;\n",
       "  background: linear-gradient(90deg,#5fba7d 97.6%, transparent 97.6%);\n",
       "}\n",
       "#T_b5530_row5_col1 {\n",
       "  width: 10em;\n",
       "  height: 80%;\n",
       "  background: linear-gradient(90deg,#5fba7d 96.5%, transparent 96.5%);\n",
       "}\n",
       "#T_b5530_row6_col1 {\n",
       "  width: 10em;\n",
       "  height: 80%;\n",
       "  background: linear-gradient(90deg,#5fba7d 96.1%, transparent 96.1%);\n",
       "}\n",
       "#T_b5530_row7_col1 {\n",
       "  width: 10em;\n",
       "  height: 80%;\n",
       "  background: linear-gradient(90deg,#5fba7d 95.3%, transparent 95.3%);\n",
       "}\n",
       "#T_b5530_row8_col1 {\n",
       "  width: 10em;\n",
       "  height: 80%;\n",
       "  background: linear-gradient(90deg,#5fba7d 95.0%, transparent 95.0%);\n",
       "}\n",
       "#T_b5530_row9_col1 {\n",
       "  width: 10em;\n",
       "  height: 80%;\n",
       "  background: linear-gradient(90deg,#5fba7d 94.5%, transparent 94.5%);\n",
       "}\n",
       "#T_b5530_row10_col1 {\n",
       "  width: 10em;\n",
       "  height: 80%;\n",
       "  background: linear-gradient(90deg,#5fba7d 92.5%, transparent 92.5%);\n",
       "}\n",
       "#T_b5530_row11_col1 {\n",
       "  width: 10em;\n",
       "  height: 80%;\n",
       "  background: linear-gradient(90deg,#5fba7d 92.4%, transparent 92.4%);\n",
       "}\n",
       "#T_b5530_row12_col1 {\n",
       "  width: 10em;\n",
       "  height: 80%;\n",
       "  background: linear-gradient(90deg,#5fba7d 91.6%, transparent 91.6%);\n",
       "}\n",
       "#T_b5530_row13_col1 {\n",
       "  width: 10em;\n",
       "  height: 80%;\n",
       "  background: linear-gradient(90deg,#5fba7d 90.9%, transparent 90.9%);\n",
       "}\n",
       "#T_b5530_row14_col1 {\n",
       "  width: 10em;\n",
       "  height: 80%;\n",
       "  background: linear-gradient(90deg,#5fba7d 88.1%, transparent 88.1%);\n",
       "}\n",
       "</style>\n",
       "<table id=\"T_b5530_\">\n",
       "  <thead>\n",
       "    <tr>\n",
       "      <th class=\"blank level0\" >&nbsp;</th>\n",
       "      <th class=\"col_heading level0 col0\" >main_category</th>\n",
       "      <th class=\"col_heading level0 col1\" >duration</th>\n",
       "    </tr>\n",
       "  </thead>\n",
       "  <tbody>\n",
       "    <tr>\n",
       "      <th id=\"T_b5530_level0_row0\" class=\"row_heading level0 row0\" >10</th>\n",
       "      <td id=\"T_b5530_row0_col0\" class=\"data row0 col0\" >Music</td>\n",
       "      <td id=\"T_b5530_row0_col1\" class=\"data row0 col1\" >35.795488</td>\n",
       "    </tr>\n",
       "    <tr>\n",
       "      <th id=\"T_b5530_level0_row1\" class=\"row_heading level0 row1\" >6</th>\n",
       "      <td id=\"T_b5530_row1_col0\" class=\"data row1 col0\" >Film & Video</td>\n",
       "      <td id=\"T_b5530_row1_col1\" class=\"data row1 col1\" >35.772818</td>\n",
       "    </tr>\n",
       "    <tr>\n",
       "      <th id=\"T_b5530_level0_row2\" class=\"row_heading level0 row2\" >13</th>\n",
       "      <td id=\"T_b5530_row2_col0\" class=\"data row2 col0\" >Technology</td>\n",
       "      <td id=\"T_b5530_row2_col1\" class=\"data row2 col1\" >35.385925</td>\n",
       "    </tr>\n",
       "    <tr>\n",
       "      <th id=\"T_b5530_level0_row3\" class=\"row_heading level0 row3\" >14</th>\n",
       "      <td id=\"T_b5530_row3_col0\" class=\"data row3 col0\" >Theater</td>\n",
       "      <td id=\"T_b5530_row3_col1\" class=\"data row3 col1\" >34.950511</td>\n",
       "    </tr>\n",
       "    <tr>\n",
       "      <th id=\"T_b5530_level0_row4\" class=\"row_heading level0 row4\" >4</th>\n",
       "      <td id=\"T_b5530_row4_col0\" class=\"data row4 col0\" >Design</td>\n",
       "      <td id=\"T_b5530_row4_col1\" class=\"data row4 col1\" >34.922550</td>\n",
       "    </tr>\n",
       "    <tr>\n",
       "      <th id=\"T_b5530_level0_row5\" class=\"row_heading level0 row5\" >9</th>\n",
       "      <td id=\"T_b5530_row5_col0\" class=\"data row5 col0\" >Journalism</td>\n",
       "      <td id=\"T_b5530_row5_col1\" class=\"data row5 col1\" >34.530807</td>\n",
       "    </tr>\n",
       "    <tr>\n",
       "      <th id=\"T_b5530_level0_row6\" class=\"row_heading level0 row6\" >12</th>\n",
       "      <td id=\"T_b5530_row6_col0\" class=\"data row6 col0\" >Publishing</td>\n",
       "      <td id=\"T_b5530_row6_col1\" class=\"data row6 col1\" >34.383598</td>\n",
       "    </tr>\n",
       "    <tr>\n",
       "      <th id=\"T_b5530_level0_row7\" class=\"row_heading level0 row7\" >1</th>\n",
       "      <td id=\"T_b5530_row7_col0\" class=\"data row7 col0\" >Comics</td>\n",
       "      <td id=\"T_b5530_row7_col1\" class=\"data row7 col1\" >34.118496</td>\n",
       "    </tr>\n",
       "    <tr>\n",
       "      <th id=\"T_b5530_level0_row8\" class=\"row_heading level0 row8\" >7</th>\n",
       "      <td id=\"T_b5530_row8_col0\" class=\"data row8 col0\" >Food</td>\n",
       "      <td id=\"T_b5530_row8_col1\" class=\"data row8 col1\" >34.017202</td>\n",
       "    </tr>\n",
       "    <tr>\n",
       "      <th id=\"T_b5530_level0_row9\" class=\"row_heading level0 row9\" >11</th>\n",
       "      <td id=\"T_b5530_row9_col0\" class=\"data row9 col0\" >Photography</td>\n",
       "      <td id=\"T_b5530_row9_col1\" class=\"data row9 col1\" >33.823392</td>\n",
       "    </tr>\n",
       "    <tr>\n",
       "      <th id=\"T_b5530_level0_row10\" class=\"row_heading level0 row10\" >0</th>\n",
       "      <td id=\"T_b5530_row10_col0\" class=\"data row10 col0\" >Art</td>\n",
       "      <td id=\"T_b5530_row10_col1\" class=\"data row10 col1\" >33.116246</td>\n",
       "    </tr>\n",
       "    <tr>\n",
       "      <th id=\"T_b5530_level0_row11\" class=\"row_heading level0 row11\" >3</th>\n",
       "      <td id=\"T_b5530_row11_col0\" class=\"data row11 col0\" >Dance</td>\n",
       "      <td id=\"T_b5530_row11_col1\" class=\"data row11 col1\" >33.071219</td>\n",
       "    </tr>\n",
       "    <tr>\n",
       "      <th id=\"T_b5530_level0_row12\" class=\"row_heading level0 row12\" >5</th>\n",
       "      <td id=\"T_b5530_row12_col0\" class=\"data row12 col0\" >Fashion</td>\n",
       "      <td id=\"T_b5530_row12_col1\" class=\"data row12 col1\" >32.805248</td>\n",
       "    </tr>\n",
       "    <tr>\n",
       "      <th id=\"T_b5530_level0_row13\" class=\"row_heading level0 row13\" >8</th>\n",
       "      <td id=\"T_b5530_row13_col0\" class=\"data row13 col0\" >Games</td>\n",
       "      <td id=\"T_b5530_row13_col1\" class=\"data row13 col1\" >32.520293</td>\n",
       "    </tr>\n",
       "    <tr>\n",
       "      <th id=\"T_b5530_level0_row14\" class=\"row_heading level0 row14\" >2</th>\n",
       "      <td id=\"T_b5530_row14_col0\" class=\"data row14 col0\" >Crafts</td>\n",
       "      <td id=\"T_b5530_row14_col1\" class=\"data row14 col1\" >31.535211</td>\n",
       "    </tr>\n",
       "  </tbody>\n",
       "</table>\n"
      ],
      "text/plain": [
       "<pandas.io.formats.style.Styler at 0x7ffdd9348400>"
      ]
     },
     "execution_count": 17,
     "metadata": {},
     "output_type": "execute_result"
    }
   ],
   "source": [
    "# Find out the avergae duration for each category\n",
    "duration_mean = kickstar.groupby([\"main_category\"]).mean()['duration'].reset_index()\n",
    "duration_mean = duration_mean.sort_values(by=[\"duration\"], ascending=False)\n",
    "\n",
    "duration_mean.style.bar(subset=[\"duration\"], align=\"mid\", color=[\"#5fba7d\"])"
   ]
  },
  {
   "cell_type": "code",
   "execution_count": 18,
   "id": "349e9a24",
   "metadata": {
    "slideshow": {
     "slide_type": "skip"
    }
   },
   "outputs": [
    {
     "data": {
      "text/html": [
       "<style type=\"text/css\">\n",
       "#T_0d80d_row0_col1 {\n",
       "  width: 10em;\n",
       "  height: 80%;\n",
       "  background: linear-gradient(90deg,#5fba7d 100.0%, transparent 100.0%);\n",
       "}\n",
       "#T_0d80d_row1_col1 {\n",
       "  width: 10em;\n",
       "  height: 80%;\n",
       "  background: linear-gradient(90deg,#5fba7d 95.9%, transparent 95.9%);\n",
       "}\n",
       "#T_0d80d_row2_col1 {\n",
       "  width: 10em;\n",
       "  height: 80%;\n",
       "  background: linear-gradient(90deg,#5fba7d 94.0%, transparent 94.0%);\n",
       "}\n",
       "#T_0d80d_row3_col1 {\n",
       "  width: 10em;\n",
       "  height: 80%;\n",
       "  background: linear-gradient(90deg,#5fba7d 93.4%, transparent 93.4%);\n",
       "}\n",
       "#T_0d80d_row4_col1 {\n",
       "  width: 10em;\n",
       "  height: 80%;\n",
       "  background: linear-gradient(90deg,#5fba7d 93.0%, transparent 93.0%);\n",
       "}\n",
       "#T_0d80d_row5_col1 {\n",
       "  width: 10em;\n",
       "  height: 80%;\n",
       "  background: linear-gradient(90deg,#5fba7d 91.9%, transparent 91.9%);\n",
       "}\n",
       "#T_0d80d_row6_col1 {\n",
       "  width: 10em;\n",
       "  height: 80%;\n",
       "  background: linear-gradient(90deg,#5fba7d 90.6%, transparent 90.6%);\n",
       "}\n",
       "#T_0d80d_row7_col1 {\n",
       "  width: 10em;\n",
       "  height: 80%;\n",
       "  background: linear-gradient(90deg,#5fba7d 88.1%, transparent 88.1%);\n",
       "}\n",
       "#T_0d80d_row8_col1 {\n",
       "  width: 10em;\n",
       "  height: 80%;\n",
       "  background: linear-gradient(90deg,#5fba7d 87.8%, transparent 87.8%);\n",
       "}\n",
       "#T_0d80d_row9_col1 {\n",
       "  width: 10em;\n",
       "  height: 80%;\n",
       "  background: linear-gradient(90deg,#5fba7d 86.9%, transparent 86.9%);\n",
       "}\n",
       "#T_0d80d_row10_col1 {\n",
       "  width: 10em;\n",
       "  height: 80%;\n",
       "  background: linear-gradient(90deg,#5fba7d 86.6%, transparent 86.6%);\n",
       "}\n",
       "#T_0d80d_row11_col1 {\n",
       "  width: 10em;\n",
       "  height: 80%;\n",
       "  background: linear-gradient(90deg,#5fba7d 84.5%, transparent 84.5%);\n",
       "}\n",
       "#T_0d80d_row12_col1 {\n",
       "  width: 10em;\n",
       "  height: 80%;\n",
       "  background: linear-gradient(90deg,#5fba7d 83.9%, transparent 83.9%);\n",
       "}\n",
       "#T_0d80d_row13_col1 {\n",
       "  width: 10em;\n",
       "  height: 80%;\n",
       "  background: linear-gradient(90deg,#5fba7d 83.1%, transparent 83.1%);\n",
       "}\n",
       "#T_0d80d_row14_col1 {\n",
       "  width: 10em;\n",
       "  height: 80%;\n",
       "  background: linear-gradient(90deg,#5fba7d 78.0%, transparent 78.0%);\n",
       "}\n",
       "</style>\n",
       "<table id=\"T_0d80d_\">\n",
       "  <thead>\n",
       "    <tr>\n",
       "      <th class=\"blank level0\" >&nbsp;</th>\n",
       "      <th class=\"col_heading level0 col0\" >main_category</th>\n",
       "      <th class=\"col_heading level0 col1\" >name_length</th>\n",
       "    </tr>\n",
       "  </thead>\n",
       "  <tbody>\n",
       "    <tr>\n",
       "      <th id=\"T_0d80d_level0_row0\" class=\"row_heading level0 row0\" >4</th>\n",
       "      <td id=\"T_0d80d_row0_col0\" class=\"data row0 col0\" >Design</td>\n",
       "      <td id=\"T_0d80d_row0_col1\" class=\"data row0 col1\" >39.263835</td>\n",
       "    </tr>\n",
       "    <tr>\n",
       "      <th id=\"T_0d80d_level0_row1\" class=\"row_heading level0 row1\" >13</th>\n",
       "      <td id=\"T_0d80d_row1_col0\" class=\"data row1 col0\" >Technology</td>\n",
       "      <td id=\"T_0d80d_row1_col1\" class=\"data row1 col1\" >37.635824</td>\n",
       "    </tr>\n",
       "    <tr>\n",
       "      <th id=\"T_0d80d_level0_row2\" class=\"row_heading level0 row2\" >14</th>\n",
       "      <td id=\"T_0d80d_row2_col0\" class=\"data row2 col0\" >Theater</td>\n",
       "      <td id=\"T_0d80d_row2_col1\" class=\"data row2 col1\" >36.893938</td>\n",
       "    </tr>\n",
       "    <tr>\n",
       "      <th id=\"T_0d80d_level0_row3\" class=\"row_heading level0 row3\" >10</th>\n",
       "      <td id=\"T_0d80d_row3_col0\" class=\"data row3 col0\" >Music</td>\n",
       "      <td id=\"T_0d80d_row3_col1\" class=\"data row3 col1\" >36.656034</td>\n",
       "    </tr>\n",
       "    <tr>\n",
       "      <th id=\"T_0d80d_level0_row4\" class=\"row_heading level0 row4\" >12</th>\n",
       "      <td id=\"T_0d80d_row4_col0\" class=\"data row4 col0\" >Publishing</td>\n",
       "      <td id=\"T_0d80d_row4_col1\" class=\"data row4 col1\" >36.496853</td>\n",
       "    </tr>\n",
       "    <tr>\n",
       "      <th id=\"T_0d80d_level0_row5\" class=\"row_heading level0 row5\" >3</th>\n",
       "      <td id=\"T_0d80d_row5_col0\" class=\"data row5 col0\" >Dance</td>\n",
       "      <td id=\"T_0d80d_row5_col1\" class=\"data row5 col1\" >36.076554</td>\n",
       "    </tr>\n",
       "    <tr>\n",
       "      <th id=\"T_0d80d_level0_row6\" class=\"row_heading level0 row6\" >5</th>\n",
       "      <td id=\"T_0d80d_row6_col0\" class=\"data row6 col0\" >Fashion</td>\n",
       "      <td id=\"T_0d80d_row6_col1\" class=\"data row6 col1\" >35.570561</td>\n",
       "    </tr>\n",
       "    <tr>\n",
       "      <th id=\"T_0d80d_level0_row7\" class=\"row_heading level0 row7\" >0</th>\n",
       "      <td id=\"T_0d80d_row7_col0\" class=\"data row7 col0\" >Art</td>\n",
       "      <td id=\"T_0d80d_row7_col1\" class=\"data row7 col1\" >34.593211</td>\n",
       "    </tr>\n",
       "    <tr>\n",
       "      <th id=\"T_0d80d_level0_row8\" class=\"row_heading level0 row8\" >11</th>\n",
       "      <td id=\"T_0d80d_row8_col0\" class=\"data row8 col0\" >Photography</td>\n",
       "      <td id=\"T_0d80d_row8_col1\" class=\"data row8 col1\" >34.469618</td>\n",
       "    </tr>\n",
       "    <tr>\n",
       "      <th id=\"T_0d80d_level0_row9\" class=\"row_heading level0 row9\" >7</th>\n",
       "      <td id=\"T_0d80d_row9_col0\" class=\"data row9 col0\" >Food</td>\n",
       "      <td id=\"T_0d80d_row9_col1\" class=\"data row9 col1\" >34.110665</td>\n",
       "    </tr>\n",
       "    <tr>\n",
       "      <th id=\"T_0d80d_level0_row10\" class=\"row_heading level0 row10\" >9</th>\n",
       "      <td id=\"T_0d80d_row10_col0\" class=\"data row10 col0\" >Journalism</td>\n",
       "      <td id=\"T_0d80d_row10_col1\" class=\"data row10 col1\" >34.008469</td>\n",
       "    </tr>\n",
       "    <tr>\n",
       "      <th id=\"T_0d80d_level0_row11\" class=\"row_heading level0 row11\" >2</th>\n",
       "      <td id=\"T_0d80d_row11_col0\" class=\"data row11 col0\" >Crafts</td>\n",
       "      <td id=\"T_0d80d_row11_col1\" class=\"data row11 col1\" >33.191801</td>\n",
       "    </tr>\n",
       "    <tr>\n",
       "      <th id=\"T_0d80d_level0_row12\" class=\"row_heading level0 row12\" >1</th>\n",
       "      <td id=\"T_0d80d_row12_col0\" class=\"data row12 col0\" >Comics</td>\n",
       "      <td id=\"T_0d80d_row12_col1\" class=\"data row12 col1\" >32.954668</td>\n",
       "    </tr>\n",
       "    <tr>\n",
       "      <th id=\"T_0d80d_level0_row13\" class=\"row_heading level0 row13\" >8</th>\n",
       "      <td id=\"T_0d80d_row13_col0\" class=\"data row13 col0\" >Games</td>\n",
       "      <td id=\"T_0d80d_row13_col1\" class=\"data row13 col1\" >32.618181</td>\n",
       "    </tr>\n",
       "    <tr>\n",
       "      <th id=\"T_0d80d_level0_row14\" class=\"row_heading level0 row14\" >6</th>\n",
       "      <td id=\"T_0d80d_row14_col0\" class=\"data row14 col0\" >Film & Video</td>\n",
       "      <td id=\"T_0d80d_row14_col1\" class=\"data row14 col1\" >30.640113</td>\n",
       "    </tr>\n",
       "  </tbody>\n",
       "</table>\n"
      ],
      "text/plain": [
       "<pandas.io.formats.style.Styler at 0x7ffdede76cd0>"
      ]
     },
     "execution_count": 18,
     "metadata": {},
     "output_type": "execute_result"
    }
   ],
   "source": [
    "# Find out the avergae name length for each category\n",
    "name_length_mean = kickstar.groupby([\"main_category\"]).mean()['name_length'].reset_index()\n",
    "name_length_mean = name_length_mean.sort_values(by=[\"name_length\"], ascending=False)\n",
    "\n",
    "name_length_mean.style.bar(subset=[\"name_length\"], align=\"mid\", color=[\"#5fba7d\"])"
   ]
  },
  {
   "cell_type": "code",
   "execution_count": 19,
   "id": "19d8fa62",
   "metadata": {
    "slideshow": {
     "slide_type": "skip"
    }
   },
   "outputs": [
    {
     "data": {
      "text/html": [
       "<style type=\"text/css\">\n",
       "#T_a725f_row0_col1 {\n",
       "  width: 10em;\n",
       "  height: 80%;\n",
       "  background: linear-gradient(90deg,#5fba7d 100.0%, transparent 100.0%);\n",
       "}\n",
       "#T_a725f_row1_col1, #T_a725f_row2_col1 {\n",
       "  width: 10em;\n",
       "  height: 80%;\n",
       "  background: linear-gradient(90deg,#5fba7d 50.0%, transparent 50.0%);\n",
       "}\n",
       "#T_a725f_row3_col1 {\n",
       "  width: 10em;\n",
       "  height: 80%;\n",
       "  background: linear-gradient(90deg,#5fba7d 40.0%, transparent 40.0%);\n",
       "}\n",
       "#T_a725f_row4_col1 {\n",
       "  width: 10em;\n",
       "  height: 80%;\n",
       "  background: linear-gradient(90deg,#5fba7d 35.0%, transparent 35.0%);\n",
       "}\n",
       "#T_a725f_row5_col1 {\n",
       "  width: 10em;\n",
       "  height: 80%;\n",
       "  background: linear-gradient(90deg,#5fba7d 29.7%, transparent 29.7%);\n",
       "}\n",
       "#T_a725f_row6_col1, #T_a725f_row7_col1 {\n",
       "  width: 10em;\n",
       "  height: 80%;\n",
       "  background: linear-gradient(90deg,#5fba7d 25.0%, transparent 25.0%);\n",
       "}\n",
       "#T_a725f_row8_col1, #T_a725f_row9_col1 {\n",
       "  width: 10em;\n",
       "  height: 80%;\n",
       "  background: linear-gradient(90deg,#5fba7d 20.0%, transparent 20.0%);\n",
       "}\n",
       "#T_a725f_row10_col1 {\n",
       "  width: 10em;\n",
       "  height: 80%;\n",
       "  background: linear-gradient(90deg,#5fba7d 17.5%, transparent 17.5%);\n",
       "}\n",
       "#T_a725f_row11_col1, #T_a725f_row12_col1 {\n",
       "  width: 10em;\n",
       "  height: 80%;\n",
       "  background: linear-gradient(90deg,#5fba7d 16.5%, transparent 16.5%);\n",
       "}\n",
       "#T_a725f_row13_col1 {\n",
       "  width: 10em;\n",
       "  height: 80%;\n",
       "  background: linear-gradient(90deg,#5fba7d 15.0%, transparent 15.0%);\n",
       "}\n",
       "#T_a725f_row14_col1 {\n",
       "  width: 10em;\n",
       "  height: 80%;\n",
       "  background: linear-gradient(90deg,#5fba7d 11.6%, transparent 11.6%);\n",
       "}\n",
       "</style>\n",
       "<table id=\"T_a725f_\">\n",
       "  <thead>\n",
       "    <tr>\n",
       "      <th class=\"blank level0\" >&nbsp;</th>\n",
       "      <th class=\"col_heading level0 col0\" >main_category</th>\n",
       "      <th class=\"col_heading level0 col1\" >usd_goal_real</th>\n",
       "    </tr>\n",
       "  </thead>\n",
       "  <tbody>\n",
       "    <tr>\n",
       "      <th id=\"T_a725f_level0_row0\" class=\"row_heading level0 row0\" >13</th>\n",
       "      <td id=\"T_a725f_row0_col0\" class=\"data row0 col0\" >Technology</td>\n",
       "      <td id=\"T_a725f_row0_col1\" class=\"data row0 col1\" >20000.000000</td>\n",
       "    </tr>\n",
       "    <tr>\n",
       "      <th id=\"T_a725f_level0_row1\" class=\"row_heading level0 row1\" >4</th>\n",
       "      <td id=\"T_a725f_row1_col0\" class=\"data row1 col0\" >Design</td>\n",
       "      <td id=\"T_a725f_row1_col1\" class=\"data row1 col1\" >10000.000000</td>\n",
       "    </tr>\n",
       "    <tr>\n",
       "      <th id=\"T_a725f_level0_row2\" class=\"row_heading level0 row2\" >7</th>\n",
       "      <td id=\"T_a725f_row2_col0\" class=\"data row2 col0\" >Food</td>\n",
       "      <td id=\"T_a725f_row2_col1\" class=\"data row2 col1\" >10000.000000</td>\n",
       "    </tr>\n",
       "    <tr>\n",
       "      <th id=\"T_a725f_level0_row3\" class=\"row_heading level0 row3\" >8</th>\n",
       "      <td id=\"T_a725f_row3_col0\" class=\"data row3 col0\" >Games</td>\n",
       "      <td id=\"T_a725f_row3_col1\" class=\"data row3 col1\" >8000.000000</td>\n",
       "    </tr>\n",
       "    <tr>\n",
       "      <th id=\"T_a725f_level0_row4\" class=\"row_heading level0 row4\" >6</th>\n",
       "      <td id=\"T_a725f_row4_col0\" class=\"data row4 col0\" >Film & Video</td>\n",
       "      <td id=\"T_a725f_row4_col1\" class=\"data row4 col1\" >7000.000000</td>\n",
       "    </tr>\n",
       "    <tr>\n",
       "      <th id=\"T_a725f_level0_row5\" class=\"row_heading level0 row5\" >5</th>\n",
       "      <td id=\"T_a725f_row5_col0\" class=\"data row5 col0\" >Fashion</td>\n",
       "      <td id=\"T_a725f_row5_col1\" class=\"data row5 col1\" >5938.520000</td>\n",
       "    </tr>\n",
       "    <tr>\n",
       "      <th id=\"T_a725f_level0_row6\" class=\"row_heading level0 row6\" >9</th>\n",
       "      <td id=\"T_a725f_row6_col0\" class=\"data row6 col0\" >Journalism</td>\n",
       "      <td id=\"T_a725f_row6_col1\" class=\"data row6 col1\" >5000.000000</td>\n",
       "    </tr>\n",
       "    <tr>\n",
       "      <th id=\"T_a725f_level0_row7\" class=\"row_heading level0 row7\" >12</th>\n",
       "      <td id=\"T_a725f_row7_col0\" class=\"data row7 col0\" >Publishing</td>\n",
       "      <td id=\"T_a725f_row7_col1\" class=\"data row7 col1\" >5000.000000</td>\n",
       "    </tr>\n",
       "    <tr>\n",
       "      <th id=\"T_a725f_level0_row8\" class=\"row_heading level0 row8\" >10</th>\n",
       "      <td id=\"T_a725f_row8_col0\" class=\"data row8 col0\" >Music</td>\n",
       "      <td id=\"T_a725f_row8_col1\" class=\"data row8 col1\" >4000.000000</td>\n",
       "    </tr>\n",
       "    <tr>\n",
       "      <th id=\"T_a725f_level0_row9\" class=\"row_heading level0 row9\" >11</th>\n",
       "      <td id=\"T_a725f_row9_col0\" class=\"data row9 col0\" >Photography</td>\n",
       "      <td id=\"T_a725f_row9_col1\" class=\"data row9 col1\" >4000.000000</td>\n",
       "    </tr>\n",
       "    <tr>\n",
       "      <th id=\"T_a725f_level0_row10\" class=\"row_heading level0 row10\" >1</th>\n",
       "      <td id=\"T_a725f_row10_col0\" class=\"data row10 col0\" >Comics</td>\n",
       "      <td id=\"T_a725f_row10_col1\" class=\"data row10 col1\" >3500.000000</td>\n",
       "    </tr>\n",
       "    <tr>\n",
       "      <th id=\"T_a725f_level0_row11\" class=\"row_heading level0 row11\" >3</th>\n",
       "      <td id=\"T_a725f_row11_col0\" class=\"data row11 col0\" >Dance</td>\n",
       "      <td id=\"T_a725f_row11_col1\" class=\"data row11 col1\" >3300.000000</td>\n",
       "    </tr>\n",
       "    <tr>\n",
       "      <th id=\"T_a725f_level0_row12\" class=\"row_heading level0 row12\" >14</th>\n",
       "      <td id=\"T_a725f_row12_col0\" class=\"data row12 col0\" >Theater</td>\n",
       "      <td id=\"T_a725f_row12_col1\" class=\"data row12 col1\" >3291.770000</td>\n",
       "    </tr>\n",
       "    <tr>\n",
       "      <th id=\"T_a725f_level0_row13\" class=\"row_heading level0 row13\" >0</th>\n",
       "      <td id=\"T_a725f_row13_col0\" class=\"data row13 col0\" >Art</td>\n",
       "      <td id=\"T_a725f_row13_col1\" class=\"data row13 col1\" >3000.000000</td>\n",
       "    </tr>\n",
       "    <tr>\n",
       "      <th id=\"T_a725f_level0_row14\" class=\"row_heading level0 row14\" >2</th>\n",
       "      <td id=\"T_a725f_row14_col0\" class=\"data row14 col0\" >Crafts</td>\n",
       "      <td id=\"T_a725f_row14_col1\" class=\"data row14 col1\" >2327.640000</td>\n",
       "    </tr>\n",
       "  </tbody>\n",
       "</table>\n"
      ],
      "text/plain": [
       "<pandas.io.formats.style.Styler at 0x7ffdca6ca130>"
      ]
     },
     "execution_count": 19,
     "metadata": {},
     "output_type": "execute_result"
    }
   ],
   "source": [
    "# Find out the median goal value for each category\n",
    "pledge_median = pledge_median.sort_values(by=[\"usd_goal_real\"], ascending=False)\n",
    "\n",
    "pledge_median.style.bar(subset=[\"usd_goal_real\"], align=\"mid\", color=[\"#5fba7d\"])"
   ]
  },
  {
   "cell_type": "code",
   "execution_count": 20,
   "id": "0248bd63",
   "metadata": {
    "slideshow": {
     "slide_type": "skip"
    }
   },
   "outputs": [
    {
     "data": {
      "text/html": [
       "<style type=\"text/css\">\n",
       "#T_de1ca_row0_col1 {\n",
       "  width: 10em;\n",
       "  height: 80%;\n",
       "  background: linear-gradient(90deg,#5fba7d 100.0%, transparent 100.0%);\n",
       "}\n",
       "#T_de1ca_row1_col1 {\n",
       "  width: 10em;\n",
       "  height: 80%;\n",
       "  background: linear-gradient(90deg,#5fba7d 96.3%, transparent 96.3%);\n",
       "}\n",
       "#T_de1ca_row2_col1 {\n",
       "  width: 10em;\n",
       "  height: 80%;\n",
       "  background: linear-gradient(90deg,#5fba7d 80.6%, transparent 80.6%);\n",
       "}\n",
       "#T_de1ca_row3_col1 {\n",
       "  width: 10em;\n",
       "  height: 80%;\n",
       "  background: linear-gradient(90deg,#5fba7d 78.0%, transparent 78.0%);\n",
       "}\n",
       "#T_de1ca_row4_col1 {\n",
       "  width: 10em;\n",
       "  height: 80%;\n",
       "  background: linear-gradient(90deg,#5fba7d 67.7%, transparent 67.7%);\n",
       "}\n",
       "#T_de1ca_row5_col1 {\n",
       "  width: 10em;\n",
       "  height: 80%;\n",
       "  background: linear-gradient(90deg,#5fba7d 52.1%, transparent 52.1%);\n",
       "}\n",
       "#T_de1ca_row6_col1 {\n",
       "  width: 10em;\n",
       "  height: 80%;\n",
       "  background: linear-gradient(90deg,#5fba7d 39.2%, transparent 39.2%);\n",
       "}\n",
       "#T_de1ca_row7_col1 {\n",
       "  width: 10em;\n",
       "  height: 80%;\n",
       "  background: linear-gradient(90deg,#5fba7d 22.1%, transparent 22.1%);\n",
       "}\n",
       "#T_de1ca_row8_col1 {\n",
       "  width: 10em;\n",
       "  height: 80%;\n",
       "  background: linear-gradient(90deg,#5fba7d 16.7%, transparent 16.7%);\n",
       "}\n",
       "#T_de1ca_row9_col1 {\n",
       "  width: 10em;\n",
       "  height: 80%;\n",
       "  background: linear-gradient(90deg,#5fba7d 15.1%, transparent 15.1%);\n",
       "}\n",
       "#T_de1ca_row10_col1 {\n",
       "  width: 10em;\n",
       "  height: 80%;\n",
       "  background: linear-gradient(90deg,#5fba7d 13.2%, transparent 13.2%);\n",
       "}\n",
       "#T_de1ca_row11_col1 {\n",
       "  width: 10em;\n",
       "  height: 80%;\n",
       "  background: linear-gradient(90deg,#5fba7d 12.7%, transparent 12.7%);\n",
       "}\n",
       "#T_de1ca_row12_col1 {\n",
       "  width: 10em;\n",
       "  height: 80%;\n",
       "  background: linear-gradient(90deg,#5fba7d 12.5%, transparent 12.5%);\n",
       "}\n",
       "#T_de1ca_row13_col1 {\n",
       "  width: 10em;\n",
       "  height: 80%;\n",
       "  background: linear-gradient(90deg,#5fba7d 4.9%, transparent 4.9%);\n",
       "}\n",
       "#T_de1ca_row14_col1 {\n",
       "  width: 10em;\n",
       "  height: 80%;\n",
       "  background: linear-gradient(90deg,#5fba7d 2.6%, transparent 2.6%);\n",
       "}\n",
       "</style>\n",
       "<table id=\"T_de1ca_\">\n",
       "  <thead>\n",
       "    <tr>\n",
       "      <th class=\"blank level0\" >&nbsp;</th>\n",
       "      <th class=\"col_heading level0 col0\" >main_category</th>\n",
       "      <th class=\"col_heading level0 col1\" >usd_pledged_real</th>\n",
       "    </tr>\n",
       "  </thead>\n",
       "  <tbody>\n",
       "    <tr>\n",
       "      <th id=\"T_de1ca_level0_row0\" class=\"row_heading level0 row0\" >4</th>\n",
       "      <td id=\"T_de1ca_row0_col0\" class=\"data row0 col0\" >Design</td>\n",
       "      <td id=\"T_de1ca_row0_col1\" class=\"data row0 col1\" >1925.700000</td>\n",
       "    </tr>\n",
       "    <tr>\n",
       "      <th id=\"T_de1ca_level0_row1\" class=\"row_heading level0 row1\" >3</th>\n",
       "      <td id=\"T_de1ca_row1_col0\" class=\"data row1 col0\" >Dance</td>\n",
       "      <td id=\"T_de1ca_row1_col1\" class=\"data row1 col1\" >1855.000000</td>\n",
       "    </tr>\n",
       "    <tr>\n",
       "      <th id=\"T_de1ca_level0_row2\" class=\"row_heading level0 row2\" >14</th>\n",
       "      <td id=\"T_de1ca_row2_col0\" class=\"data row2 col0\" >Theater</td>\n",
       "      <td id=\"T_de1ca_row2_col1\" class=\"data row2 col1\" >1552.550000</td>\n",
       "    </tr>\n",
       "    <tr>\n",
       "      <th id=\"T_de1ca_level0_row3\" class=\"row_heading level0 row3\" >1</th>\n",
       "      <td id=\"T_de1ca_row3_col0\" class=\"data row3 col0\" >Comics</td>\n",
       "      <td id=\"T_de1ca_row3_col1\" class=\"data row3 col1\" >1501.720000</td>\n",
       "    </tr>\n",
       "    <tr>\n",
       "      <th id=\"T_de1ca_level0_row4\" class=\"row_heading level0 row4\" >8</th>\n",
       "      <td id=\"T_de1ca_row4_col0\" class=\"data row4 col0\" >Games</td>\n",
       "      <td id=\"T_de1ca_row4_col1\" class=\"data row4 col1\" >1303.125000</td>\n",
       "    </tr>\n",
       "    <tr>\n",
       "      <th id=\"T_de1ca_level0_row5\" class=\"row_heading level0 row5\" >10</th>\n",
       "      <td id=\"T_de1ca_row5_col0\" class=\"data row5 col0\" >Music</td>\n",
       "      <td id=\"T_de1ca_row5_col1\" class=\"data row5 col1\" >1003.000000</td>\n",
       "    </tr>\n",
       "    <tr>\n",
       "      <th id=\"T_de1ca_level0_row6\" class=\"row_heading level0 row6\" >6</th>\n",
       "      <td id=\"T_de1ca_row6_col0\" class=\"data row6 col0\" >Film & Video</td>\n",
       "      <td id=\"T_de1ca_row6_col1\" class=\"data row6 col1\" >755.000000</td>\n",
       "    </tr>\n",
       "    <tr>\n",
       "      <th id=\"T_de1ca_level0_row7\" class=\"row_heading level0 row7\" >0</th>\n",
       "      <td id=\"T_de1ca_row7_col0\" class=\"data row7 col0\" >Art</td>\n",
       "      <td id=\"T_de1ca_row7_col1\" class=\"data row7 col1\" >426.000000</td>\n",
       "    </tr>\n",
       "    <tr>\n",
       "      <th id=\"T_de1ca_level0_row8\" class=\"row_heading level0 row8\" >13</th>\n",
       "      <td id=\"T_de1ca_row8_col0\" class=\"data row8 col0\" >Technology</td>\n",
       "      <td id=\"T_de1ca_row8_col1\" class=\"data row8 col1\" >322.000000</td>\n",
       "    </tr>\n",
       "    <tr>\n",
       "      <th id=\"T_de1ca_level0_row9\" class=\"row_heading level0 row9\" >12</th>\n",
       "      <td id=\"T_de1ca_row9_col0\" class=\"data row9 col0\" >Publishing</td>\n",
       "      <td id=\"T_de1ca_row9_col1\" class=\"data row9 col1\" >291.000000</td>\n",
       "    </tr>\n",
       "    <tr>\n",
       "      <th id=\"T_de1ca_level0_row10\" class=\"row_heading level0 row10\" >7</th>\n",
       "      <td id=\"T_de1ca_row10_col0\" class=\"data row10 col0\" >Food</td>\n",
       "      <td id=\"T_de1ca_row10_col1\" class=\"data row10 col1\" >255.000000</td>\n",
       "    </tr>\n",
       "    <tr>\n",
       "      <th id=\"T_de1ca_level0_row11\" class=\"row_heading level0 row11\" >5</th>\n",
       "      <td id=\"T_de1ca_row11_col0\" class=\"data row11 col0\" >Fashion</td>\n",
       "      <td id=\"T_de1ca_row11_col1\" class=\"data row11 col1\" >245.000000</td>\n",
       "    </tr>\n",
       "    <tr>\n",
       "      <th id=\"T_de1ca_level0_row12\" class=\"row_heading level0 row12\" >11</th>\n",
       "      <td id=\"T_de1ca_row12_col0\" class=\"data row12 col0\" >Photography</td>\n",
       "      <td id=\"T_de1ca_row12_col1\" class=\"data row12 col1\" >240.000000</td>\n",
       "    </tr>\n",
       "    <tr>\n",
       "      <th id=\"T_de1ca_level0_row13\" class=\"row_heading level0 row13\" >2</th>\n",
       "      <td id=\"T_de1ca_row13_col0\" class=\"data row13 col0\" >Crafts</td>\n",
       "      <td id=\"T_de1ca_row13_col1\" class=\"data row13 col1\" >94.220000</td>\n",
       "    </tr>\n",
       "    <tr>\n",
       "      <th id=\"T_de1ca_level0_row14\" class=\"row_heading level0 row14\" >9</th>\n",
       "      <td id=\"T_de1ca_row14_col0\" class=\"data row14 col0\" >Journalism</td>\n",
       "      <td id=\"T_de1ca_row14_col1\" class=\"data row14 col1\" >51.000000</td>\n",
       "    </tr>\n",
       "  </tbody>\n",
       "</table>\n"
      ],
      "text/plain": [
       "<pandas.io.formats.style.Styler at 0x7ffdedef7220>"
      ]
     },
     "execution_count": 20,
     "metadata": {},
     "output_type": "execute_result"
    }
   ],
   "source": [
    "# Find out the median goal value for each category\n",
    "goal_median = (kickstar.groupby(kickstar[\"main_category\"]).median()[[\"usd_pledged_real\"]].reset_index())\n",
    "goal_median = goal_median.sort_values(by=[\"usd_pledged_real\"], ascending=False)\n",
    "\n",
    "goal_median.style.bar(subset=[\"usd_pledged_real\"], align=\"mid\", color=[\"#5fba7d\"])"
   ]
  },
  {
   "cell_type": "markdown",
   "id": "e42dec18",
   "metadata": {
    "slideshow": {
     "slide_type": "slide"
    }
   },
   "source": [
    "## Feature Enginnering \n",
    "In this section, we want to prepare features for our model selection part. \n",
    "- 1) we examine is there any outliers that may affect our result / recommendation to project owners\n",
    "- 2) we perform OHE on categorical data: country, main_category\n",
    "- 3) we examine is there any unnecessary data that may affect us to grasp useful information"
   ]
  },
  {
   "cell_type": "markdown",
   "id": "27c2843a",
   "metadata": {
    "slideshow": {
     "slide_type": "subslide"
    }
   },
   "source": [
    "### part I remove outliers"
   ]
  },
  {
   "cell_type": "code",
   "execution_count": 21,
   "id": "2f52944c",
   "metadata": {
    "slideshow": {
     "slide_type": "subslide"
    }
   },
   "outputs": [
    {
     "data": {
      "image/png": "[encoded data removed]",
      "text/plain": [
       "<Figure size 432x288 with 1 Axes>"
      ]
     },
     "metadata": {
      "needs_background": "light"
     },
     "output_type": "display_data"
    }
   ],
   "source": [
    "# Consider potential problem of outliers - Yes. Outliers exist\n",
    "# we plot to see how var usd_pledged_real is distributed.\n",
    "# we could see from this distribution that it is right skewed with a sipke at 0 - 0.2*10^7\n",
    "fig = sns.kdeplot(kickstar['usd_goal_real'], shade=True, color=\"b\")\n",
    "\n",
    "plt.show()"
   ]
  },
  {
   "cell_type": "code",
   "execution_count": 22,
   "id": "93a27363",
   "metadata": {
    "slideshow": {
     "slide_type": "subslide"
    }
   },
   "outputs": [
    {
     "data": {
      "image/png": "[encoded data removed]",
      "text/plain": [
       "<Figure size 432x288 with 1 Axes>"
      ]
     },
     "metadata": {
      "needs_background": "light"
     },
     "output_type": "display_data"
    }
   ],
   "source": [
    "# we plot to see how var usd_goal_real is distributed.\n",
    "# we could see from this distribution is right skewed, with a spike at 0 - 0.1*10^8.\n",
    "fig = sns.kdeplot(kickstar['usd_goal_real'], shade=True, color=\"b\")\n",
    "\n",
    "plt.show()"
   ]
  },
  {
   "cell_type": "code",
   "execution_count": 23,
   "id": "2b935e6c",
   "metadata": {
    "slideshow": {
     "slide_type": "subslide"
    }
   },
   "outputs": [
    {
     "data": {
      "image/png": "[encoded data removed]",
      "text/plain": [
       "<Figure size 432x288 with 1 Axes>"
      ]
     },
     "metadata": {
      "needs_background": "light"
     },
     "output_type": "display_data"
    }
   ],
   "source": [
    "# we plot to see how var duration is distributed.\n",
    "fig = sns.kdeplot(kickstar['duration'], shade=True, color=\"b\")\n",
    "\n",
    "plt.show()"
   ]
  },
  {
   "cell_type": "code",
   "execution_count": 24,
   "id": "8c212b56",
   "metadata": {
    "slideshow": {
     "slide_type": "subslide"
    }
   },
   "outputs": [
    {
     "data": {
      "text/plain": [
       "370248"
      ]
     },
     "execution_count": 24,
     "metadata": {},
     "output_type": "execute_result"
    }
   ],
   "source": [
    "#We want to remove ouliers displayed in the above graphs.\n",
    "#We'll only use the values distributed in 3 std range - keep 99.5% of the data\n",
    "#We do the oulier clean based on duration, usd_goal_real and usd_pledged_real\n",
    "\n",
    "#mean and std\n",
    "data_mean, data_std = mean(kickstar['usd_goal_real']), std(kickstar['usd_goal_real'])\n",
    "# identify outliers\n",
    "cut_off = data_std * 3\n",
    "lower, upper = data_mean - cut_off, data_mean + cut_off\n",
    "# remove outliers\n",
    "after_outliers_removed_boolean = [(x >= lower and x <= upper) for x in kickstar['usd_goal_real']]\n",
    "#update df based on boolean\n",
    "kickstar = kickstar[after_outliers_removed_boolean]\n"
   ]
  },
  {
   "cell_type": "code",
   "execution_count": null,
   "id": "dc4e69f1",
   "metadata": {
    "slideshow": {
     "slide_type": "subslide"
    }
   },
   "outputs": [],
   "source": [
    "#repeat for duration and usd_pledged_real\n",
    "data_mean, data_std = mean(kickstar['usd_pledged_real']), std(kickstar['usd_pledged_real'])\n",
    "cut_off = data_std * 3\n",
    "lower, upper = data_mean - cut_off, data_mean + cut_off\n",
    "after_outliers_removed_boolean = [(x >= lower and x <= upper) for x in kickstar['usd_pledged_real']]\n",
    "kickstar = kickstar[after_outliers_removed_boolean]\n",
    "\n",
    "data_mean, data_std = mean(kickstar['duration']), std(kickstar['duration'])\n",
    "cut_off = data_std * 3\n",
    "lower, upper = data_mean - cut_off, data_mean + cut_off\n",
    "after_outliers_removed_boolean = [(x >= lower and x <= upper) for x in kickstar['duration']]\n",
    "kickstar = kickstar[after_outliers_removed_boolean]\n",
    "\n",
    "len(kickstar)"
   ]
  },
  {
   "cell_type": "markdown",
   "id": "1ae1b3b4",
   "metadata": {
    "slideshow": {
     "slide_type": "subslide"
    }
   },
   "source": [
    "### part ll perform OHE on categorical variables"
   ]
  },
  {
   "cell_type": "code",
   "execution_count": 25,
   "id": "3fd954cf",
   "metadata": {
    "slideshow": {
     "slide_type": "subslide"
    }
   },
   "outputs": [
    {
     "data": {
      "text/plain": [
       "Index(['main_category_Art', 'main_category_Comics', 'main_category_Crafts',\n",
       "       'main_category_Dance', 'main_category_Design', 'main_category_Fashion',\n",
       "       'main_category_Film & Video', 'main_category_Food',\n",
       "       'main_category_Games', 'main_category_Journalism',\n",
       "       'main_category_Music', 'main_category_Photography',\n",
       "       'main_category_Publishing', 'main_category_Technology',\n",
       "       'main_category_Theater'],\n",
       "      dtype='object')"
      ]
     },
     "execution_count": 25,
     "metadata": {},
     "output_type": "execute_result"
    }
   ],
   "source": [
    "# one hot coding transformation on main_category variable\n",
    "OHEmain_cate = pd.get_dummies(kickstar.main_category, prefix='main_category')\n",
    "\n",
    "# 15 columns added to the dataset\n",
    "OHEmain_cate.columns"
   ]
  },
  {
   "cell_type": "code",
   "execution_count": 26,
   "id": "a614a793",
   "metadata": {
    "slideshow": {
     "slide_type": "subslide"
    }
   },
   "outputs": [
    {
     "data": {
      "text/plain": [
       "31"
      ]
     },
     "execution_count": 26,
     "metadata": {},
     "output_type": "execute_result"
    }
   ],
   "source": [
    "frames = [kickstar, OHEmain_cate]\n",
    "kickstar_update = pd.concat(frames, axis=1)\n",
    "\n",
    "# OHE updated dataset, with one OHE var transformed\n",
    "kickstar_update\n",
    "kickstar_update.columns\n",
    "len(kickstar_update.columns) "
   ]
  },
  {
   "cell_type": "code",
   "execution_count": 27,
   "id": "2adc28e1",
   "metadata": {
    "slideshow": {
     "slide_type": "subslide"
    }
   },
   "outputs": [
    {
     "data": {
      "text/plain": [
       "22"
      ]
     },
     "execution_count": 27,
     "metadata": {},
     "output_type": "execute_result"
    }
   ],
   "source": [
    "# one hot coding categorical var transformation on country\n",
    "OHEcountry = pd.get_dummies(kickstar.country, prefix='country')\n",
    "len(OHEcountry.columns) # there are 22 columns created for OHE country"
   ]
  },
  {
   "cell_type": "code",
   "execution_count": 28,
   "id": "00ddaf61",
   "metadata": {
    "slideshow": {
     "slide_type": "subslide"
    }
   },
   "outputs": [
    {
     "data": {
      "text/plain": [
       "53"
      ]
     },
     "execution_count": 28,
     "metadata": {},
     "output_type": "execute_result"
    }
   ],
   "source": [
    "# OHE updated dataset, with two OHE var transformed\n",
    "frames_2 = [kickstar_update, OHEcountry]\n",
    "kickstar_update_3 = pd.concat(frames_2, axis=1)\n",
    "kickstar_update_3.columns\n",
    "len(kickstar_update_3.columns) # 15+22 = 37 columns"
   ]
  },
  {
   "cell_type": "code",
   "execution_count": 29,
   "id": "7bad7d4b",
   "metadata": {
    "slideshow": {
     "slide_type": "subslide"
    }
   },
   "outputs": [
    {
     "data": {
      "text/plain": [
       "Index(['ID', 'name', 'main_category', 'currency', 'deadline', 'launched',\n",
       "       'state', 'backers', 'country', 'usd_pledged_real', 'usd_goal_real',\n",
       "       'trans_launched', 'trans_deadline', 'duration', 'year', 'name_length',\n",
       "       'main_category_Art', 'main_category_Comics', 'main_category_Crafts',\n",
       "       'main_category_Dance', 'main_category_Design', 'main_category_Fashion',\n",
       "       'main_category_Film & Video', 'main_category_Food',\n",
       "       'main_category_Games', 'main_category_Journalism',\n",
       "       'main_category_Music', 'main_category_Photography',\n",
       "       'main_category_Publishing', 'main_category_Technology',\n",
       "       'main_category_Theater', 'country_AT', 'country_AU', 'country_BE',\n",
       "       'country_CA', 'country_CH', 'country_DE', 'country_DK', 'country_ES',\n",
       "       'country_FR', 'country_GB', 'country_HK', 'country_IE', 'country_IT',\n",
       "       'country_JP', 'country_LU', 'country_MX', 'country_NL', 'country_NO',\n",
       "       'country_NZ', 'country_SE', 'country_SG', 'country_US'],\n",
       "      dtype='object')"
      ]
     },
     "execution_count": 29,
     "metadata": {},
     "output_type": "execute_result"
    }
   ],
   "source": [
    "kickstar_update_3.columns"
   ]
  },
  {
   "cell_type": "markdown",
   "id": "d1597ddd",
   "metadata": {
    "slideshow": {
     "slide_type": "subslide"
    }
   },
   "source": [
    "### Part lll remove unnecessary data that may affect us to grasp useful information\n",
    "- remove ID, Name, currency, deadline, launched, trans_launched(helper), trans_deadline(helper), usd_pledged_real, country, main_category"
   ]
  },
  {
   "cell_type": "code",
   "execution_count": 30,
   "id": "263c5ecc",
   "metadata": {
    "slideshow": {
     "slide_type": "subslide"
    }
   },
   "outputs": [
    {
     "data": {
      "text/plain": [
       "43"
      ]
     },
     "execution_count": 30,
     "metadata": {},
     "output_type": "execute_result"
    }
   ],
   "source": [
    "# feature select for data mining\n",
    "feature_select = kickstar_update_3[['backers', 'usd_goal_real',\n",
    "       'duration', 'name_length','year','state',\n",
    "       'main_category_Art', 'main_category_Comics', 'main_category_Crafts',\n",
    "       'main_category_Dance', 'main_category_Design', 'main_category_Fashion',\n",
    "       'main_category_Film & Video', 'main_category_Food',\n",
    "       'main_category_Games', 'main_category_Journalism',\n",
    "       'main_category_Music', 'main_category_Photography',\n",
    "       'main_category_Publishing', 'main_category_Technology',\n",
    "       'main_category_Theater', 'country_AT', 'country_AU', 'country_BE',\n",
    "       'country_CA', 'country_CH', 'country_DE', 'country_DK', 'country_ES',\n",
    "       'country_FR', 'country_GB', 'country_HK', 'country_IE', 'country_IT',\n",
    "       'country_JP', 'country_LU', 'country_MX', 'country_NL', 'country_NO',\n",
    "       'country_NZ', 'country_SE', 'country_SG', 'country_US']]\n",
    "\n",
    "len(feature_select.columns)"
   ]
  },
  {
   "cell_type": "markdown",
   "id": "55f13dd4",
   "metadata": {
    "slideshow": {
     "slide_type": "subslide"
    }
   },
   "source": [
    "## Data Report Summary \n",
    "In the Feature engineering section,\n",
    "- 1) we removed outliers in duration, usd_pledged_value, usd_goal_value, and keep the 99.5% of the data. We think that large outliers may lead to a skewed result, and affect our average value conclusion for project owners.\n",
    "- 2) we transformed categorical variable by OHE. By doing so, we have 37 extra columns, but we made the categorical variable operatable in the model.\n",
    "- 3) we remove some unnecessary varibales, which either are helper columns in previous steps, or mean little things in interpretting the result. "
   ]
  },
  {
   "cell_type": "markdown",
   "id": "75e543f2",
   "metadata": {
    "slideshow": {
     "slide_type": "subslide"
    }
   },
   "source": [
    "### Dataset report\n",
    "- columns number:43, row number: 370248\n",
    "\n",
    "### variable properties\n",
    "\n",
    "- Name length: Length of the project name (integer)\n",
    "\n",
    "- Main Category (categorical): Main Category of creative projects on Kickstarter. - OHE\n",
    "    \n",
    "- Duration: Duration of the project (integer) : days\n",
    "    \n",
    "- Year: Year of the project (float)\n",
    "\n",
    "- USD_Goal_real (numerical): Fundraising goal, the amount of money a creator needs to complete their Projects (in USD dollars).\n",
    "\n",
    "- State (categorical): Current condition of the project (fail/successful).\n",
    "\n",
    "- Backers (numerical): Number of backers (sponsors).\n",
    "\n",
    "- Country (categorical): Country the pledge is from. - OHE"
   ]
  },
  {
   "cell_type": "markdown",
   "id": "54fe9e63",
   "metadata": {
    "slideshow": {
     "slide_type": "subslide"
    }
   },
   "source": [
    "##  Model Selection and Model Validation\n",
    "\n",
    "### Methodology\n",
    "In the Data mining section, we experienced with four models, which are KNN, decision Tree, Gaussian and Random Forest. We keep KNN, Gaussian model and Random Forest Tree models in our final delivery, because Decision Tree model has large variance and it is unstable in terms of the result. \n",
    "\n",
    "In this section, We are interested in learning which model has the best performace helping project owners to make good prediction (classification). \n",
    "\n",
    "### Best model determinant: \n",
    "Precision score. \n",
    "Since a flase positive classification makes project owners think that its project can be successful and devote lots of efforts and money to it, but actually it is not a successful project. We consider this case is very costly to the project owners. Therefore, we maximize precision score. Increasing the possibility of true positives among positives in choosing the model. "
   ]
  },
  {
   "cell_type": "markdown",
   "id": "46da133d",
   "metadata": {
    "slideshow": {
     "slide_type": "subslide"
    }
   },
   "source": [
    "### Model Validation: \n",
    "After using cross validation to test the model and tune the parameter. Gaussian model improves its precision a lot, it yields a 89.69% of precision in final model. Random Forest also provides a 89.77% of precision. In this case, we decide to use the Random Forest model. Reasoning below.\n",
    "\n",
    "Summary for every model is provided below.\n",
    "\n",
    "### Model selection: \n",
    "Random Forest"
   ]
  },
  {
   "cell_type": "code",
   "execution_count": 31,
   "id": "5b21a19f",
   "metadata": {
    "slideshow": {
     "slide_type": "subslide"
    }
   },
   "outputs": [],
   "source": [
    "# split the original dataset into train and test\n",
    "predictors = kickstar_update_3[[\n",
    "        'backers', 'usd_goal_real',\n",
    "       'duration', 'name_length','year',\n",
    "       'main_category_Art', 'main_category_Comics', 'main_category_Crafts',\n",
    "       'main_category_Dance', 'main_category_Design', 'main_category_Fashion',\n",
    "       'main_category_Film & Video', 'main_category_Food',\n",
    "       'main_category_Games', 'main_category_Journalism',\n",
    "       'main_category_Music', 'main_category_Photography',\n",
    "       'main_category_Publishing', 'main_category_Technology',\n",
    "       'main_category_Theater', 'country_AT', 'country_AU', 'country_BE',\n",
    "       'country_CA', 'country_CH', 'country_DE', 'country_DK', 'country_ES',\n",
    "       'country_FR', 'country_GB', 'country_HK', 'country_IE', 'country_IT',\n",
    "       'country_JP', 'country_LU', 'country_MX', 'country_NL', 'country_NO',\n",
    "       'country_NZ', 'country_SE', 'country_SG', 'country_US']]\n",
    "\n",
    "target = (kickstar_update_3['state']=='successful')\n",
    "\n",
    "X_train, X_test, y_train, y_test = train_test_split(predictors,target,\n",
    "                                                    test_size=0.2,\n",
    "                                                    random_state=1)"
   ]
  },
  {
   "cell_type": "markdown",
   "id": "a174d83f",
   "metadata": {
    "slideshow": {
     "slide_type": "subslide"
    }
   },
   "source": [
    "### KNN model - PCA "
   ]
  },
  {
   "cell_type": "code",
   "execution_count": 32,
   "id": "29c5f16f",
   "metadata": {
    "slideshow": {
     "slide_type": "subslide"
    }
   },
   "outputs": [
    {
     "name": "stdout",
     "output_type": "stream",
     "text": [
      "[9.99992247e-01 7.71342547e-06]\n",
      "[62439956.77708472   173415.50349296]\n"
     ]
    }
   ],
   "source": [
    "# PCA reduce dimension\n",
    "pca = PCA(n_components=2, svd_solver='full')\n",
    "pca.fit(predictors)\n",
    "PCA(n_components=2, svd_solver='full')\n",
    "print(pca.explained_variance_ratio_)\n",
    "print(pca.singular_values_)"
   ]
  },
  {
   "cell_type": "code",
   "execution_count": 33,
   "id": "3b4ed12d",
   "metadata": {
    "slideshow": {
     "slide_type": "subslide"
    }
   },
   "outputs": [
    {
     "data": {
      "text/html": [
       "<div>\n",
       "<style scoped>\n",
       "    .dataframe tbody tr th:only-of-type {\n",
       "        vertical-align: middle;\n",
       "    }\n",
       "\n",
       "    .dataframe tbody tr th {\n",
       "        vertical-align: top;\n",
       "    }\n",
       "\n",
       "    .dataframe thead th {\n",
       "        text-align: right;\n",
       "    }\n",
       "</style>\n",
       "<table border=\"1\" class=\"dataframe\">\n",
       "  <thead>\n",
       "    <tr style=\"text-align: right;\">\n",
       "      <th></th>\n",
       "      <th>principal component 1</th>\n",
       "      <th>principal component 2</th>\n",
       "    </tr>\n",
       "  </thead>\n",
       "  <tbody>\n",
       "    <tr>\n",
       "      <th>0</th>\n",
       "      <td>76406.963691</td>\n",
       "      <td>80.270987</td>\n",
       "    </tr>\n",
       "    <tr>\n",
       "      <th>1</th>\n",
       "      <td>-21093.011915</td>\n",
       "      <td>471.347847</td>\n",
       "    </tr>\n",
       "    <tr>\n",
       "      <th>2</th>\n",
       "      <td>-20593.043626</td>\n",
       "      <td>-28.613971</td>\n",
       "    </tr>\n",
       "    <tr>\n",
       "      <th>3</th>\n",
       "      <td>-20593.046589</td>\n",
       "      <td>-75.592269</td>\n",
       "    </tr>\n",
       "    <tr>\n",
       "      <th>4</th>\n",
       "      <td>-18593.041722</td>\n",
       "      <td>3.289944</td>\n",
       "    </tr>\n",
       "    <tr>\n",
       "      <th>...</th>\n",
       "      <td>...</td>\n",
       "      <td>...</td>\n",
       "    </tr>\n",
       "    <tr>\n",
       "      <th>296193</th>\n",
       "      <td>376406.953470</td>\n",
       "      <td>-86.667072</td>\n",
       "    </tr>\n",
       "    <tr>\n",
       "      <th>296194</th>\n",
       "      <td>-22066.069898</td>\n",
       "      <td>32.429071</td>\n",
       "    </tr>\n",
       "    <tr>\n",
       "      <th>296195</th>\n",
       "      <td>-21593.045010</td>\n",
       "      <td>-51.546163</td>\n",
       "    </tr>\n",
       "    <tr>\n",
       "      <th>296196</th>\n",
       "      <td>-22794.203780</td>\n",
       "      <td>-35.525965</td>\n",
       "    </tr>\n",
       "    <tr>\n",
       "      <th>296197</th>\n",
       "      <td>-5421.414246</td>\n",
       "      <td>-38.560326</td>\n",
       "    </tr>\n",
       "  </tbody>\n",
       "</table>\n",
       "<p>296198 rows × 2 columns</p>\n",
       "</div>"
      ],
      "text/plain": [
       "        principal component 1  principal component 2\n",
       "0                76406.963691              80.270987\n",
       "1               -21093.011915             471.347847\n",
       "2               -20593.043626             -28.613971\n",
       "3               -20593.046589             -75.592269\n",
       "4               -18593.041722               3.289944\n",
       "...                       ...                    ...\n",
       "296193          376406.953470             -86.667072\n",
       "296194          -22066.069898              32.429071\n",
       "296195          -21593.045010             -51.546163\n",
       "296196          -22794.203780             -35.525965\n",
       "296197           -5421.414246             -38.560326\n",
       "\n",
       "[296198 rows x 2 columns]"
      ]
     },
     "execution_count": 33,
     "metadata": {},
     "output_type": "execute_result"
    }
   ],
   "source": [
    "principalComponents = pca.fit_transform(X_train)\n",
    "X_train_pca = pd.DataFrame(data = principalComponents, columns = ['principal component 1', 'principal component 2'])\n",
    "\n",
    "X_train_pca"
   ]
  },
  {
   "cell_type": "code",
   "execution_count": 34,
   "id": "3c378289",
   "metadata": {
    "slideshow": {
     "slide_type": "subslide"
    }
   },
   "outputs": [],
   "source": [
    "# transform the data\n",
    "principalComponents = pca.fit_transform(X_test)\n",
    "X_test_pca = pd.DataFrame(data = principalComponents, columns = ['principal component 1', 'principal component 2'])\n"
   ]
  },
  {
   "cell_type": "code",
   "execution_count": 35,
   "id": "5450e676",
   "metadata": {
    "slideshow": {
     "slide_type": "subslide"
    }
   },
   "outputs": [
    {
     "name": "stdout",
     "output_type": "stream",
     "text": [
      "[[43232  2659]\n",
      " [ 4448 23711]]\n",
      "Precision: 0.8420398451649561\n"
     ]
    },
    {
     "data": {
      "image/png": "[encoded data removed]",
      "text/plain": [
       "<Figure size 432x288 with 2 Axes>"
      ]
     },
     "metadata": {
      "needs_background": "light"
     },
     "output_type": "display_data"
    }
   ],
   "source": [
    "# train the model\n",
    "knn = KNeighborsClassifier()\n",
    "\n",
    "y_pred = knn.fit(X_train_pca, y_train).predict(X_test_pca)\n",
    "\n",
    "scores_knn = metrics.precision_score(y_test,y_pred)\n",
    "\n",
    "#print out confusion matrix\n",
    "cm_state_knn= confusion_matrix(y_test,y_pred).T\n",
    "print(cm_state_knn)\n",
    "\n",
    "dissplay_cm_state_knn= ConfusionMatrixDisplay(confusion_matrix=cm_state_knn, display_labels=None)\n",
    "dissplay_cm_state_knn.plot()\n",
    "\n",
    "#print out the accuracy score\n",
    "print(\"Precision: \"+str(metrics.precision_score(y_test, y_pred)))"
   ]
  },
  {
   "cell_type": "code",
   "execution_count": 36,
   "id": "92a61400",
   "metadata": {
    "slideshow": {
     "slide_type": "subslide"
    }
   },
   "outputs": [
    {
     "name": "stdout",
     "output_type": "stream",
     "text": [
      "CV precision of k = 1 is: 0.849706635639604\n",
      "CV precision of k = 2 is: 0.9018160662219954\n",
      "CV precision of k = 3 is: 0.8715526837868509\n",
      "CV precision of k = 4 is: 0.8962997124924664\n",
      "CV precision of k = 5 is: 0.8778607182541867\n",
      "CV precision of k = 6 is: 0.8946595577948093\n"
     ]
    },
    {
     "name": "stderr",
     "output_type": "stream",
     "text": [
      "/Users/bellalu/opt/anaconda3/lib/python3.8/site-packages/joblib/externals/loky/process_executor.py:688: UserWarning: A worker stopped while some jobs were given to the executor. This can be caused by a too short worker timeout or by a memory leak.\n",
      "  warnings.warn(\n"
     ]
    },
    {
     "name": "stdout",
     "output_type": "stream",
     "text": [
      "CV precision of k = 7 is: 0.8808996196735535\n",
      "CV precision of k = 8 is: 0.8933477610275746\n"
     ]
    },
    {
     "name": "stderr",
     "output_type": "stream",
     "text": [
      "/Users/bellalu/opt/anaconda3/lib/python3.8/site-packages/joblib/externals/loky/process_executor.py:688: UserWarning: A worker stopped while some jobs were given to the executor. This can be caused by a too short worker timeout or by a memory leak.\n",
      "  warnings.warn(\n"
     ]
    },
    {
     "name": "stdout",
     "output_type": "stream",
     "text": [
      "CV precision of k = 9 is: 0.8824721624684668\n",
      "CV precision of k = 10 is: 0.8923635656060318\n"
     ]
    }
   ],
   "source": [
    "# tune the hyperparameter k\n",
    "# i is the number of neighbor, and score stores the accuracy of the model\n",
    "cross_val = KFold(n_splits=10, random_state=None, shuffle=False)\n",
    "precision = []\n",
    "\n",
    "for i in range(1,11): # get 10 possible points for neighbors \n",
    "\n",
    "    knn = KNeighborsClassifier(n_neighbors=i)\n",
    "    model = knn.fit(X_train_pca, y_train)\n",
    "    scores = cross_val_score(model, X_train_pca, y_train, scoring=\"precision\", cv=cross_val, n_jobs=2)\n",
    "    precision.append(scores.mean())\n",
    "    print(\"CV precision of k = \"+str(i)+\" is: \"+str(scores.mean()))"
   ]
  },
  {
   "cell_type": "code",
   "execution_count": 37,
   "id": "b5ed7d05",
   "metadata": {
    "slideshow": {
     "slide_type": "subslide"
    }
   },
   "outputs": [
    {
     "name": "stdout",
     "output_type": "stream",
     "text": [
      "[[45354  7245]\n",
      " [ 2326 19125]]\n",
      "Precision: 0.891566826721365\n"
     ]
    },
    {
     "data": {
      "image/png": "[encoded data removed]",
      "text/plain": [
       "<Figure size 432x288 with 2 Axes>"
      ]
     },
     "metadata": {
      "needs_background": "light"
     },
     "output_type": "display_data"
    }
   ],
   "source": [
    "# train a KNN model neighbor = 2\n",
    "\n",
    "knn = KNeighborsClassifier(n_neighbors=2) \n",
    "\n",
    "y_pred = knn.fit(X_train_pca, y_train).predict(X_test_pca)\n",
    "\n",
    "scores_knn = metrics.precision_score(y_test,y_pred)\n",
    "\n",
    "#print out confusion matrix\n",
    "cm_state_knn= confusion_matrix(y_test,y_pred).T\n",
    "print(cm_state_knn)\n",
    "\n",
    "dissplay_cm_state_knn= ConfusionMatrixDisplay(confusion_matrix=cm_state_knn, display_labels=None)\n",
    "dissplay_cm_state_knn.plot()\n",
    "\n",
    "#print out the accuracy score\n",
    "print(\"Precision: \"+str(metrics.precision_score(y_test, y_pred)))"
   ]
  },
  {
   "cell_type": "markdown",
   "id": "4cc445c7",
   "metadata": {
    "slideshow": {
     "slide_type": "subslide"
    }
   },
   "source": [
    "### Summary for KNN model\n",
    "\n",
    "KNN model yields a 84.20% precision score before tunning the model. It is a fair measure, but it is not good enough. Thus,we use the cross validation method, looking for hyperparameter k-neighbor in [1-10] for the highest precision score. After computation, we found out that k = 2 gives the highest precision among 10 choices, and thus, we tune the parameter and increase its precision score to 89.16%. From the matrix, we lower the FP to 2326 cases."
   ]
  },
  {
   "cell_type": "markdown",
   "id": "ac31e3f9",
   "metadata": {
    "slideshow": {
     "slide_type": "subslide"
    }
   },
   "source": [
    "### Gaussian Model"
   ]
  },
  {
   "cell_type": "code",
   "execution_count": 38,
   "id": "182741fa",
   "metadata": {
    "slideshow": {
     "slide_type": "subslide"
    }
   },
   "outputs": [
    {
     "name": "stdout",
     "output_type": "stream",
     "text": [
      "[[40874 10456]\n",
      " [ 6806 15914]]\n",
      "precision: 0.7668872383524645\n",
      "              precision    recall  f1-score   support\n",
      "\n",
      "       False       0.80      0.86      0.83     47680\n",
      "        True       0.70      0.60      0.65     26370\n",
      "\n",
      "    accuracy                           0.77     74050\n",
      "   macro avg       0.75      0.73      0.74     74050\n",
      "weighted avg       0.76      0.77      0.76     74050\n",
      "\n"
     ]
    },
    {
     "data": {
      "image/png": "[encoded data removed]",
      "text/plain": [
       "<Figure size 432x288 with 2 Axes>"
      ]
     },
     "metadata": {
      "needs_background": "light"
     },
     "output_type": "display_data"
    }
   ],
   "source": [
    "# Use GNB to find preicision score of the original model\n",
    "gnb = GaussianNB()\n",
    "\n",
    "y_pred = gnb.fit(X_train, y_train).predict(X_test)\n",
    "\n",
    "#find the accuracy score\n",
    "scores_gnb = metrics.accuracy_score(y_test,y_pred)\n",
    "\n",
    "#print out confusion matrix\n",
    "cm_state_gnb = confusion_matrix(y_test,y_pred).T\n",
    "print(cm_state_gnb)\n",
    "\n",
    "dissplay_cm_state_gnb= ConfusionMatrixDisplay(confusion_matrix=cm_state_gnb, display_labels=None)\n",
    "dissplay_cm_state_gnb.plot()\n",
    "\n",
    "#print out the accuracy score\n",
    "print(\"precision: \"+str(metrics.accuracy_score(y_test, y_pred)))\n",
    "print(classification_report(y_test, y_pred))"
   ]
  },
  {
   "cell_type": "code",
   "execution_count": 39,
   "id": "319127a1",
   "metadata": {
    "slideshow": {
     "slide_type": "subslide"
    }
   },
   "outputs": [
    {
     "name": "stderr",
     "output_type": "stream",
     "text": [
      "/Users/bellalu/opt/anaconda3/lib/python3.8/site-packages/sklearn/metrics/_classification.py:1248: UndefinedMetricWarning: Precision is ill-defined and being set to 0.0 due to no predicted samples. Use `zero_division` parameter to control this behavior.\n",
      "  _warn_prf(average, modifier, msg_start, len(result))\n",
      "/Users/bellalu/opt/anaconda3/lib/python3.8/site-packages/joblib/externals/loky/process_executor.py:688: UserWarning: A worker stopped while some jobs were given to the executor. This can be caused by a too short worker timeout or by a memory leak.\n",
      "  warnings.warn(\n",
      "/Users/bellalu/opt/anaconda3/lib/python3.8/site-packages/sklearn/metrics/_classification.py:1248: UndefinedMetricWarning: Precision is ill-defined and being set to 0.0 due to no predicted samples. Use `zero_division` parameter to control this behavior.\n",
      "  _warn_prf(average, modifier, msg_start, len(result))\n",
      "/Users/bellalu/opt/anaconda3/lib/python3.8/site-packages/sklearn/metrics/_classification.py:1248: UndefinedMetricWarning: Precision is ill-defined and being set to 0.0 due to no predicted samples. Use `zero_division` parameter to control this behavior.\n",
      "  _warn_prf(average, modifier, msg_start, len(result))\n",
      "/Users/bellalu/opt/anaconda3/lib/python3.8/site-packages/sklearn/metrics/_classification.py:1248: UndefinedMetricWarning: Precision is ill-defined and being set to 0.0 due to no predicted samples. Use `zero_division` parameter to control this behavior.\n",
      "  _warn_prf(average, modifier, msg_start, len(result))\n",
      "/Users/bellalu/opt/anaconda3/lib/python3.8/site-packages/sklearn/metrics/_classification.py:1248: UndefinedMetricWarning: Precision is ill-defined and being set to 0.0 due to no predicted samples. Use `zero_division` parameter to control this behavior.\n",
      "  _warn_prf(average, modifier, msg_start, len(result))\n",
      "/Users/bellalu/opt/anaconda3/lib/python3.8/site-packages/sklearn/metrics/_classification.py:1248: UndefinedMetricWarning: Precision is ill-defined and being set to 0.0 due to no predicted samples. Use `zero_division` parameter to control this behavior.\n",
      "  _warn_prf(average, modifier, msg_start, len(result))\n",
      "/Users/bellalu/opt/anaconda3/lib/python3.8/site-packages/joblib/externals/loky/process_executor.py:688: UserWarning: A worker stopped while some jobs were given to the executor. This can be caused by a too short worker timeout or by a memory leak.\n",
      "  warnings.warn(\n",
      "/Users/bellalu/opt/anaconda3/lib/python3.8/site-packages/joblib/externals/loky/process_executor.py:688: UserWarning: A worker stopped while some jobs were given to the executor. This can be caused by a too short worker timeout or by a memory leak.\n",
      "  warnings.warn(\n",
      "/Users/bellalu/opt/anaconda3/lib/python3.8/site-packages/joblib/externals/loky/process_executor.py:688: UserWarning: A worker stopped while some jobs were given to the executor. This can be caused by a too short worker timeout or by a memory leak.\n",
      "  warnings.warn(\n",
      "/Users/bellalu/opt/anaconda3/lib/python3.8/site-packages/sklearn/metrics/_classification.py:1248: UndefinedMetricWarning: Precision is ill-defined and being set to 0.0 due to no predicted samples. Use `zero_division` parameter to control this behavior.\n",
      "  _warn_prf(average, modifier, msg_start, len(result))\n",
      "/Users/bellalu/opt/anaconda3/lib/python3.8/site-packages/sklearn/metrics/_classification.py:1248: UndefinedMetricWarning: Precision is ill-defined and being set to 0.0 due to no predicted samples. Use `zero_division` parameter to control this behavior.\n",
      "  _warn_prf(average, modifier, msg_start, len(result))\n",
      "/Users/bellalu/opt/anaconda3/lib/python3.8/site-packages/sklearn/metrics/_classification.py:1248: UndefinedMetricWarning: Precision is ill-defined and being set to 0.0 due to no predicted samples. Use `zero_division` parameter to control this behavior.\n",
      "  _warn_prf(average, modifier, msg_start, len(result))\n",
      "/Users/bellalu/opt/anaconda3/lib/python3.8/site-packages/sklearn/metrics/_classification.py:1248: UndefinedMetricWarning: Precision is ill-defined and being set to 0.0 due to no predicted samples. Use `zero_division` parameter to control this behavior.\n",
      "  _warn_prf(average, modifier, msg_start, len(result))\n",
      "/Users/bellalu/opt/anaconda3/lib/python3.8/site-packages/joblib/externals/loky/process_executor.py:688: UserWarning: A worker stopped while some jobs were given to the executor. This can be caused by a too short worker timeout or by a memory leak.\n",
      "  warnings.warn(\n",
      "/Users/bellalu/opt/anaconda3/lib/python3.8/site-packages/joblib/externals/loky/process_executor.py:688: UserWarning: A worker stopped while some jobs were given to the executor. This can be caused by a too short worker timeout or by a memory leak.\n",
      "  warnings.warn(\n"
     ]
    },
    {
     "data": {
      "text/plain": [
       "[0.0,\n",
       " 0.38005632035499437,\n",
       " 0.3894857893414617,\n",
       " 0.391853757148215,\n",
       " 0.3925674355607124,\n",
       " 0.40215316367197157,\n",
       " 0.4314436821384353,\n",
       " 0.9015170051619377,\n",
       " 0.8031514634812547,\n",
       " 0.7043111639935292]"
      ]
     },
     "execution_count": 39,
     "metadata": {},
     "output_type": "execute_result"
    }
   ],
   "source": [
    "# tune the parameter of var_smooth based on the CV score of training dataset\n",
    "\n",
    "var_smooth = list(np.logspace(0,-9, num=10))\n",
    "cross_val = KFold(n_splits=10, random_state=None, shuffle=False)\n",
    "\n",
    "precision = []\n",
    "for i in range(10):\n",
    "    gnb = GaussianNB(var_smoothing = var_smooth[i])\n",
    "    model = gnb.fit(X_train, y_train)\n",
    "    scores = cross_val_score(model, X_train, y_train, scoring=\"precision\", cv=cross_val, n_jobs=2)\n",
    "    precision.append(scores.mean())\n",
    "precision"
   ]
  },
  {
   "cell_type": "code",
   "execution_count": 40,
   "id": "a4feeefc",
   "metadata": {
    "slideshow": {
     "slide_type": "subslide"
    }
   },
   "outputs": [
    {
     "data": {
      "text/plain": [
       "[1.0, 0.1, 0.01, 0.001, 0.0001, 1e-05, 1e-06, 1e-07, 1e-08, 1e-09]"
      ]
     },
     "execution_count": 40,
     "metadata": {},
     "output_type": "execute_result"
    }
   ],
   "source": [
    "var_smooth"
   ]
  },
  {
   "cell_type": "code",
   "execution_count": 41,
   "id": "7565ac18",
   "metadata": {
    "slideshow": {
     "slide_type": "subslide"
    }
   },
   "outputs": [
    {
     "name": "stdout",
     "output_type": "stream",
     "text": [
      "0.8969426091462624\n",
      "[[46089 12523]\n",
      " [ 1591 13847]]\n",
      "              precision    recall  f1-score   support\n",
      "\n",
      "       False       0.79      0.97      0.87     47680\n",
      "        True       0.90      0.53      0.66     26370\n",
      "\n",
      "    accuracy                           0.81     74050\n",
      "   macro avg       0.84      0.75      0.76     74050\n",
      "weighted avg       0.83      0.81      0.79     74050\n",
      "\n"
     ]
    },
    {
     "data": {
      "text/plain": [
       "<sklearn.metrics._plot.confusion_matrix.ConfusionMatrixDisplay at 0x7ffdcd499760>"
      ]
     },
     "execution_count": 41,
     "metadata": {},
     "output_type": "execute_result"
    },
    {
     "data": {
      "image/png": "[encoded data removed]",
      "text/plain": [
       "<Figure size 432x288 with 2 Axes>"
      ]
     },
     "metadata": {
      "needs_background": "light"
     },
     "output_type": "display_data"
    }
   ],
   "source": [
    "#Based on the graph and accuracy report, I choose var smoothing to be 1e-07\n",
    "gnb = GaussianNB(var_smoothing = 1e-07)\n",
    "gnb = gnb.fit(X_train, y_train)\n",
    "y_pred = gnb.predict(X_test)\n",
    "\n",
    "scores = metrics.precision_score(y_test,y_pred)\n",
    "print(scores)\n",
    "\n",
    "cm = confusion_matrix(y_test,y_pred).T\n",
    "print(cm)\n",
    "print(classification_report(y_test, y_pred))\n",
    "dissplay = ConfusionMatrixDisplay(confusion_matrix=cm,display_labels=None)\n",
    "dissplay.plot()"
   ]
  },
  {
   "cell_type": "markdown",
   "id": "b9ddd6cd",
   "metadata": {
    "slideshow": {
     "slide_type": "subslide"
    }
   },
   "source": [
    "### Summary for Gaussian Model\n",
    "Gaussian model yields a 76.78% precision score before tunning the model. It is a fair measure, but it is not good enough. Thus, we use the cross validation method, looking for hyperparameter var_smooth [1.0, 0.1, 0.01, 0.001, 0.0001, 1e-05, 1e-06, 1e-07, 1e-08, 1e-09] that can give us the highest precision score. After computation, we found out that 1e-07 gives the highest precision among 10 choices, and thus, we tune the parameter and increase its precision score to 89.69. From the matrix, we lower the FP to 1591 cases."
   ]
  },
  {
   "cell_type": "markdown",
   "id": "4844d796",
   "metadata": {
    "slideshow": {
     "slide_type": "subslide"
    }
   },
   "source": [
    "### Random Forest Model"
   ]
  },
  {
   "cell_type": "code",
   "execution_count": 42,
   "id": "1825d37f",
   "metadata": {
    "slideshow": {
     "slide_type": "subslide"
    }
   },
   "outputs": [
    {
     "name": "stdout",
     "output_type": "stream",
     "text": [
      "[[44953  2412]\n",
      " [ 2727 23958]]\n",
      "Precision: 0.8978077571669477\n"
     ]
    },
    {
     "data": {
      "image/png": "[encoded data removed]",
      "text/plain": [
       "<Figure size 432x288 with 2 Axes>"
      ]
     },
     "metadata": {
      "needs_background": "light"
     },
     "output_type": "display_data"
    }
   ],
   "source": [
    "rfc = RandomForestClassifier()\n",
    "\n",
    "y_pred = rfc.fit(X_train, y_train).predict(X_test)\n",
    "\n",
    "#find the accuracy score\n",
    "scores_rfc = metrics.precision_score(y_test,y_pred)\n",
    "\n",
    "#print out confusion matrix\n",
    "cm_state_rfc= confusion_matrix(y_test,y_pred).T\n",
    "print(cm_state_rfc)\n",
    "\n",
    "dissplay_cm_state_rfc= ConfusionMatrixDisplay(confusion_matrix=cm_state_rfc, display_labels=None)\n",
    "dissplay_cm_state_rfc.plot()\n",
    "\n",
    "#print out the accuracy score\n",
    "print(\"Precision: \"+str(metrics.precision_score(y_test, y_pred)))"
   ]
  },
  {
   "cell_type": "code",
   "execution_count": 44,
   "id": "4728fba3",
   "metadata": {
    "slideshow": {
     "slide_type": "subslide"
    }
   },
   "outputs": [
    {
     "data": {
      "text/plain": [
       "[0.8999740042552198, 0.8996544171368814, 0.9005354143214793]"
      ]
     },
     "execution_count": 44,
     "metadata": {},
     "output_type": "execute_result"
    }
   ],
   "source": [
    "# tune the parameter of max_feature\n",
    "# max number of feature in random forest should equal to the square root of number of features\n",
    "\n",
    "max_feature = [7,8,9]\n",
    "\n",
    "cross_val = KFold(n_splits=5, random_state=None, shuffle=False)\n",
    "\n",
    "precision = []\n",
    "for i in range(3):\n",
    "\n",
    "    rfc = RandomForestClassifier(max_features = max_feature[i], max_depth = 100)\n",
    "    model = rfc.fit(X_train, y_train)\n",
    "    scores = cross_val_score(model, X_train, y_train, scoring=\"precision\", cv=cross_val, n_jobs=2)\n",
    "    precision.append(scores.mean())\n",
    "precision\n",
    "\n",
    "# it takes super long time to tune the parameter, and it takes even longer time to tune with max depth\n",
    "# so, we only tune one parameter max_feature.\n",
    "# But luckily, we could see some improvements on the result"
   ]
  },
  {
   "cell_type": "code",
   "execution_count": 45,
   "id": "6bdd0198",
   "metadata": {
    "slideshow": {
     "slide_type": "subslide"
    }
   },
   "outputs": [
    {
     "name": "stdout",
     "output_type": "stream",
     "text": [
      "[[44951  2355]\n",
      " [ 2729 24015]]\n",
      "Precision: 0.897958420580317\n"
     ]
    },
    {
     "data": {
      "image/png": "[encoded data removed]",
      "text/plain": [
       "<Figure size 432x288 with 2 Axes>"
      ]
     },
     "metadata": {
      "needs_background": "light"
     },
     "output_type": "display_data"
    }
   ],
   "source": [
    "# validate the model \n",
    "rfc = RandomForestClassifier(max_features = 9, max_depth = 100)\n",
    "\n",
    "y_pred = rfc.fit(X_train, y_train).predict(X_test)\n",
    "\n",
    "#find the accuracy score\n",
    "scores_rfc = metrics.precision_score(y_test,y_pred)\n",
    "\n",
    "#print out confusion matrix\n",
    "cm_state_rfc= confusion_matrix(y_test,y_pred).T\n",
    "print(cm_state_rfc)\n",
    "\n",
    "dissplay_cm_state_rfc= ConfusionMatrixDisplay(confusion_matrix=cm_state_rfc, display_labels=None)\n",
    "dissplay_cm_state_rfc.plot()\n",
    "\n",
    "#print out the accuracy score\n",
    "print(\"Precision: \"+str(metrics.precision_score(y_test, y_pred)))"
   ]
  },
  {
   "cell_type": "markdown",
   "id": "ada5f0fd",
   "metadata": {
    "slideshow": {
     "slide_type": "subslide"
    }
   },
   "source": [
    "### Summary for Random Forest Model\n",
    "Random Forest model yields a 89.69% precision score before tunning the model. It is a good measure, but we want to see whether we can improve this number. We used the grid research, trying to tune n_estimators, max_features, max_depth, min_sample_split, min_sample_leaf, and bootstrap. However, the dataset is too big and there are too many dimensionalities involved, the grid research is not working well in this case.\n",
    "\n",
    "We consider max_feature is the most influential hyperparameter among all, so we tune the max_feature by [7,8,9] - max_feature should be square root of number of features, and the max_depth =  100. Finally, we improve our model a little. The final precision score is 89.78%."
   ]
  },
  {
   "cell_type": "markdown",
   "id": "4934ddf0",
   "metadata": {
    "slideshow": {
     "slide_type": "subslide"
    }
   },
   "source": [
    "### Final model Random Forest: Finding on FP"
   ]
  },
  {
   "cell_type": "code",
   "execution_count": 46,
   "id": "5d035bbe",
   "metadata": {
    "slideshow": {
     "slide_type": "subslide"
    }
   },
   "outputs": [],
   "source": [
    "# see all flase positives\n",
    "\n",
    "y_test_list = list(y_test)\n",
    "y_pred_list = list(y_pred)\n",
    "\n",
    "# create a false positive dataframe\n",
    "False_positive = []\n",
    "\n",
    "for i in range(len(y_test)):\n",
    "    if (y_test_list[i] == False) and (y_pred_list[i]== True):\n",
    "        False_positive.append(i)\n",
    "#print(False_positive)"
   ]
  },
  {
   "cell_type": "code",
   "execution_count": 47,
   "id": "2ed9502b",
   "metadata": {
    "slideshow": {
     "slide_type": "subslide"
    }
   },
   "outputs": [
    {
     "data": {
      "text/plain": [
       "2729"
      ]
     },
     "execution_count": 47,
     "metadata": {},
     "output_type": "execute_result"
    }
   ],
   "source": [
    "# create a dataframe of false positives\n",
    "final_list = [kickstar_update_3.iloc[i] for i in False_positive]\n",
    "list_of_false_positive = pd.DataFrame(final_list)\n",
    "len(list_of_false_positive)"
   ]
  },
  {
   "cell_type": "markdown",
   "id": "b0f5f477",
   "metadata": {
    "slideshow": {
     "slide_type": "subslide"
    }
   },
   "source": [
    "**As you see in the above steps, list_of_false_positive is a list containing all of the false positive samples(FP). Since FP is the most costly error in our case, we want to dig deeper to figure out which kind of features are more likely to have the FP issue in the RF model. Thus, we use associaton rule in the list_of_false_positive samples.**"
   ]
  },
  {
   "cell_type": "code",
   "execution_count": 48,
   "id": "35fde007",
   "metadata": {
    "slideshow": {
     "slide_type": "subslide"
    }
   },
   "outputs": [],
   "source": [
    "# see which category and country is most likely get a false positive misclassification in prediction\n",
    "df = list_of_false_positive[['main_category_Art', 'main_category_Comics', 'main_category_Crafts',\n",
    "       'main_category_Dance', 'main_category_Design', 'main_category_Fashion',\n",
    "       'main_category_Film & Video', 'main_category_Food',\n",
    "       'main_category_Games', 'main_category_Journalism',\n",
    "       'main_category_Music', 'main_category_Photography',\n",
    "       'main_category_Publishing', 'main_category_Technology',\n",
    "       'main_category_Theater', 'country_AT', 'country_AU', 'country_BE',\n",
    "       'country_CA', 'country_CH', 'country_DE', 'country_DK', 'country_ES',\n",
    "       'country_FR', 'country_GB', 'country_HK', 'country_IE', 'country_IT',\n",
    "       'country_JP', 'country_LU', 'country_MX', 'country_NL', 'country_NO',\n",
    "       'country_NZ', 'country_SE', 'country_SG', 'country_US']]"
   ]
  },
  {
   "cell_type": "code",
   "execution_count": 49,
   "id": "8cd73581",
   "metadata": {
    "slideshow": {
     "slide_type": "subslide"
    }
   },
   "outputs": [
    {
     "data": {
      "text/html": [
       "<div>\n",
       "<style scoped>\n",
       "    .dataframe tbody tr th:only-of-type {\n",
       "        vertical-align: middle;\n",
       "    }\n",
       "\n",
       "    .dataframe tbody tr th {\n",
       "        vertical-align: top;\n",
       "    }\n",
       "\n",
       "    .dataframe thead th {\n",
       "        text-align: right;\n",
       "    }\n",
       "</style>\n",
       "<table border=\"1\" class=\"dataframe\">\n",
       "  <thead>\n",
       "    <tr style=\"text-align: right;\">\n",
       "      <th></th>\n",
       "      <th>support</th>\n",
       "      <th>itemsets</th>\n",
       "      <th>length</th>\n",
       "    </tr>\n",
       "  </thead>\n",
       "  <tbody>\n",
       "    <tr>\n",
       "      <th>0</th>\n",
       "      <td>0.171858</td>\n",
       "      <td>(main_category_Film &amp; Video)</td>\n",
       "      <td>1</td>\n",
       "    </tr>\n",
       "    <tr>\n",
       "      <th>1</th>\n",
       "      <td>0.141077</td>\n",
       "      <td>(main_category_Music)</td>\n",
       "      <td>1</td>\n",
       "    </tr>\n",
       "    <tr>\n",
       "      <th>2</th>\n",
       "      <td>0.109564</td>\n",
       "      <td>(main_category_Publishing)</td>\n",
       "      <td>1</td>\n",
       "    </tr>\n",
       "    <tr>\n",
       "      <th>3</th>\n",
       "      <td>0.798095</td>\n",
       "      <td>(country_US)</td>\n",
       "      <td>1</td>\n",
       "    </tr>\n",
       "    <tr>\n",
       "      <th>4</th>\n",
       "      <td>0.145841</td>\n",
       "      <td>(main_category_Film &amp; Video, country_US)</td>\n",
       "      <td>2</td>\n",
       "    </tr>\n",
       "    <tr>\n",
       "      <th>5</th>\n",
       "      <td>0.128985</td>\n",
       "      <td>(main_category_Music, country_US)</td>\n",
       "      <td>2</td>\n",
       "    </tr>\n",
       "  </tbody>\n",
       "</table>\n",
       "</div>"
      ],
      "text/plain": [
       "    support                                  itemsets  length\n",
       "0  0.171858              (main_category_Film & Video)       1\n",
       "1  0.141077                     (main_category_Music)       1\n",
       "2  0.109564                (main_category_Publishing)       1\n",
       "3  0.798095                              (country_US)       1\n",
       "4  0.145841  (main_category_Film & Video, country_US)       2\n",
       "5  0.128985         (main_category_Music, country_US)       2"
      ]
     },
     "execution_count": 49,
     "metadata": {},
     "output_type": "execute_result"
    }
   ],
   "source": [
    "# Use association rule\n",
    "frequent_itemsets = apriori(df, min_support=0.1, use_colnames=True)\n",
    "frequent_itemsets['length'] = frequent_itemsets['itemsets'].apply(lambda x: len(x))\n",
    "frequent_itemsets"
   ]
  },
  {
   "cell_type": "markdown",
   "id": "6652098b",
   "metadata": {
    "slideshow": {
     "slide_type": "subslide"
    }
   },
   "source": [
    "### Final model Random Forest: Finding on nodes importance"
   ]
  },
  {
   "cell_type": "code",
   "execution_count": 50,
   "id": "1b3ecd51",
   "metadata": {
    "scrolled": false,
    "slideshow": {
     "slide_type": "subslide"
    }
   },
   "outputs": [
    {
     "data": {
      "text/html": [
       "<div>\n",
       "<style scoped>\n",
       "    .dataframe tbody tr th:only-of-type {\n",
       "        vertical-align: middle;\n",
       "    }\n",
       "\n",
       "    .dataframe tbody tr th {\n",
       "        vertical-align: top;\n",
       "    }\n",
       "\n",
       "    .dataframe thead th {\n",
       "        text-align: right;\n",
       "    }\n",
       "</style>\n",
       "<table border=\"1\" class=\"dataframe\">\n",
       "  <thead>\n",
       "    <tr style=\"text-align: right;\">\n",
       "      <th></th>\n",
       "      <th>0</th>\n",
       "      <th>1</th>\n",
       "    </tr>\n",
       "  </thead>\n",
       "  <tbody>\n",
       "    <tr>\n",
       "      <th>0</th>\n",
       "      <td>backers</td>\n",
       "      <td>0.639847</td>\n",
       "    </tr>\n",
       "    <tr>\n",
       "      <th>1</th>\n",
       "      <td>usd_goal_real</td>\n",
       "      <td>0.174696</td>\n",
       "    </tr>\n",
       "    <tr>\n",
       "      <th>2</th>\n",
       "      <td>name_length</td>\n",
       "      <td>0.055007</td>\n",
       "    </tr>\n",
       "    <tr>\n",
       "      <th>3</th>\n",
       "      <td>duration</td>\n",
       "      <td>0.042249</td>\n",
       "    </tr>\n",
       "    <tr>\n",
       "      <th>4</th>\n",
       "      <td>year</td>\n",
       "      <td>0.028305</td>\n",
       "    </tr>\n",
       "    <tr>\n",
       "      <th>5</th>\n",
       "      <td>main_category_Games</td>\n",
       "      <td>0.006742</td>\n",
       "    </tr>\n",
       "    <tr>\n",
       "      <th>6</th>\n",
       "      <td>main_category_Music</td>\n",
       "      <td>0.005979</td>\n",
       "    </tr>\n",
       "    <tr>\n",
       "      <th>7</th>\n",
       "      <td>main_category_Technology</td>\n",
       "      <td>0.004457</td>\n",
       "    </tr>\n",
       "    <tr>\n",
       "      <th>8</th>\n",
       "      <td>main_category_Design</td>\n",
       "      <td>0.003867</td>\n",
       "    </tr>\n",
       "    <tr>\n",
       "      <th>9</th>\n",
       "      <td>main_category_Film &amp; Video</td>\n",
       "      <td>0.003837</td>\n",
       "    </tr>\n",
       "    <tr>\n",
       "      <th>10</th>\n",
       "      <td>main_category_Theater</td>\n",
       "      <td>0.003498</td>\n",
       "    </tr>\n",
       "    <tr>\n",
       "      <th>11</th>\n",
       "      <td>country_US</td>\n",
       "      <td>0.003392</td>\n",
       "    </tr>\n",
       "    <tr>\n",
       "      <th>12</th>\n",
       "      <td>main_category_Comics</td>\n",
       "      <td>0.002603</td>\n",
       "    </tr>\n",
       "    <tr>\n",
       "      <th>13</th>\n",
       "      <td>country_GB</td>\n",
       "      <td>0.002548</td>\n",
       "    </tr>\n",
       "    <tr>\n",
       "      <th>14</th>\n",
       "      <td>main_category_Publishing</td>\n",
       "      <td>0.002529</td>\n",
       "    </tr>\n",
       "    <tr>\n",
       "      <th>15</th>\n",
       "      <td>main_category_Art</td>\n",
       "      <td>0.002448</td>\n",
       "    </tr>\n",
       "    <tr>\n",
       "      <th>16</th>\n",
       "      <td>main_category_Fashion</td>\n",
       "      <td>0.002323</td>\n",
       "    </tr>\n",
       "    <tr>\n",
       "      <th>17</th>\n",
       "      <td>main_category_Food</td>\n",
       "      <td>0.002174</td>\n",
       "    </tr>\n",
       "    <tr>\n",
       "      <th>18</th>\n",
       "      <td>country_CA</td>\n",
       "      <td>0.001708</td>\n",
       "    </tr>\n",
       "    <tr>\n",
       "      <th>19</th>\n",
       "      <td>main_category_Dance</td>\n",
       "      <td>0.001447</td>\n",
       "    </tr>\n",
       "    <tr>\n",
       "      <th>20</th>\n",
       "      <td>main_category_Photography</td>\n",
       "      <td>0.001294</td>\n",
       "    </tr>\n",
       "    <tr>\n",
       "      <th>21</th>\n",
       "      <td>main_category_Crafts</td>\n",
       "      <td>0.001145</td>\n",
       "    </tr>\n",
       "    <tr>\n",
       "      <th>22</th>\n",
       "      <td>country_AU</td>\n",
       "      <td>0.001128</td>\n",
       "    </tr>\n",
       "    <tr>\n",
       "      <th>23</th>\n",
       "      <td>country_DE</td>\n",
       "      <td>0.000721</td>\n",
       "    </tr>\n",
       "    <tr>\n",
       "      <th>24</th>\n",
       "      <td>main_category_Journalism</td>\n",
       "      <td>0.000678</td>\n",
       "    </tr>\n",
       "    <tr>\n",
       "      <th>25</th>\n",
       "      <td>country_NL</td>\n",
       "      <td>0.000654</td>\n",
       "    </tr>\n",
       "    <tr>\n",
       "      <th>26</th>\n",
       "      <td>country_FR</td>\n",
       "      <td>0.000647</td>\n",
       "    </tr>\n",
       "    <tr>\n",
       "      <th>27</th>\n",
       "      <td>country_IT</td>\n",
       "      <td>0.000526</td>\n",
       "    </tr>\n",
       "    <tr>\n",
       "      <th>28</th>\n",
       "      <td>country_ES</td>\n",
       "      <td>0.000438</td>\n",
       "    </tr>\n",
       "    <tr>\n",
       "      <th>29</th>\n",
       "      <td>country_NZ</td>\n",
       "      <td>0.000407</td>\n",
       "    </tr>\n",
       "    <tr>\n",
       "      <th>30</th>\n",
       "      <td>country_SE</td>\n",
       "      <td>0.000402</td>\n",
       "    </tr>\n",
       "    <tr>\n",
       "      <th>31</th>\n",
       "      <td>country_HK</td>\n",
       "      <td>0.000319</td>\n",
       "    </tr>\n",
       "    <tr>\n",
       "      <th>32</th>\n",
       "      <td>country_DK</td>\n",
       "      <td>0.000312</td>\n",
       "    </tr>\n",
       "    <tr>\n",
       "      <th>33</th>\n",
       "      <td>country_MX</td>\n",
       "      <td>0.000303</td>\n",
       "    </tr>\n",
       "    <tr>\n",
       "      <th>34</th>\n",
       "      <td>country_SG</td>\n",
       "      <td>0.000283</td>\n",
       "    </tr>\n",
       "    <tr>\n",
       "      <th>35</th>\n",
       "      <td>country_CH</td>\n",
       "      <td>0.000276</td>\n",
       "    </tr>\n",
       "    <tr>\n",
       "      <th>36</th>\n",
       "      <td>country_NO</td>\n",
       "      <td>0.000219</td>\n",
       "    </tr>\n",
       "    <tr>\n",
       "      <th>37</th>\n",
       "      <td>country_IE</td>\n",
       "      <td>0.000191</td>\n",
       "    </tr>\n",
       "    <tr>\n",
       "      <th>38</th>\n",
       "      <td>country_AT</td>\n",
       "      <td>0.000175</td>\n",
       "    </tr>\n",
       "    <tr>\n",
       "      <th>39</th>\n",
       "      <td>country_BE</td>\n",
       "      <td>0.000173</td>\n",
       "    </tr>\n",
       "    <tr>\n",
       "      <th>40</th>\n",
       "      <td>country_JP</td>\n",
       "      <td>0.000038</td>\n",
       "    </tr>\n",
       "    <tr>\n",
       "      <th>41</th>\n",
       "      <td>country_LU</td>\n",
       "      <td>0.000017</td>\n",
       "    </tr>\n",
       "  </tbody>\n",
       "</table>\n",
       "</div>"
      ],
      "text/plain": [
       "                             0         1\n",
       "0                      backers  0.639847\n",
       "1                usd_goal_real  0.174696\n",
       "2                  name_length  0.055007\n",
       "3                     duration  0.042249\n",
       "4                         year  0.028305\n",
       "5          main_category_Games  0.006742\n",
       "6          main_category_Music  0.005979\n",
       "7     main_category_Technology  0.004457\n",
       "8         main_category_Design  0.003867\n",
       "9   main_category_Film & Video  0.003837\n",
       "10       main_category_Theater  0.003498\n",
       "11                  country_US  0.003392\n",
       "12        main_category_Comics  0.002603\n",
       "13                  country_GB  0.002548\n",
       "14    main_category_Publishing  0.002529\n",
       "15           main_category_Art  0.002448\n",
       "16       main_category_Fashion  0.002323\n",
       "17          main_category_Food  0.002174\n",
       "18                  country_CA  0.001708\n",
       "19         main_category_Dance  0.001447\n",
       "20   main_category_Photography  0.001294\n",
       "21        main_category_Crafts  0.001145\n",
       "22                  country_AU  0.001128\n",
       "23                  country_DE  0.000721\n",
       "24    main_category_Journalism  0.000678\n",
       "25                  country_NL  0.000654\n",
       "26                  country_FR  0.000647\n",
       "27                  country_IT  0.000526\n",
       "28                  country_ES  0.000438\n",
       "29                  country_NZ  0.000407\n",
       "30                  country_SE  0.000402\n",
       "31                  country_HK  0.000319\n",
       "32                  country_DK  0.000312\n",
       "33                  country_MX  0.000303\n",
       "34                  country_SG  0.000283\n",
       "35                  country_CH  0.000276\n",
       "36                  country_NO  0.000219\n",
       "37                  country_IE  0.000191\n",
       "38                  country_AT  0.000175\n",
       "39                  country_BE  0.000173\n",
       "40                  country_JP  0.000038\n",
       "41                  country_LU  0.000017"
      ]
     },
     "execution_count": 50,
     "metadata": {},
     "output_type": "execute_result"
    }
   ],
   "source": [
    "# find out feature importance\n",
    "from matplotlib import pyplot\n",
    "importance = rfc.feature_importances_\n",
    "\n",
    "k = []\n",
    "for i,v in enumerate(importance):\n",
    "    k.append((predictors.columns[i], v))\n",
    "\n",
    "#print(k)\n",
    "\n",
    "l = sorted(k, key=lambda x: x[1], reverse = True)\n",
    "pd.DataFrame(l)"
   ]
  },
  {
   "cell_type": "code",
   "execution_count": 51,
   "id": "a6d5db11",
   "metadata": {
    "slideshow": {
     "slide_type": "subslide"
    }
   },
   "outputs": [
    {
     "data": {
      "image/png": "[encoded data removed]",
      "text/plain": [
       "<Figure size 432x288 with 1 Axes>"
      ]
     },
     "metadata": {
      "needs_background": "light"
     },
     "output_type": "display_data"
    }
   ],
   "source": [
    "# plot feature importance\n",
    "pyplot.bar([x for x in range(len(importance))], importance)\n",
    "pyplot.show()"
   ]
  },
  {
   "cell_type": "markdown",
   "id": "af405296",
   "metadata": {
    "slideshow": {
     "slide_type": "subslide"
    }
   },
   "source": [
    "## Conclusion\n",
    "\n",
    "### Among all three models, we believe that the Random Forest is the best model among all. \n",
    " - 1) It has the highest precision score. It lowers the chance that projects being misclassified as flase positive - reduce the cost for having a Type I error in prediction.\n",
    " - 2) It ranks the features importance to the outcome. \n",
    " - 3) It uses different random subsets of features at each split creates different, less correlated trees (less variance compared to decision tree model).\n",
    " \n",
    "### In Random Forest prediction result, Film &Video category is most likely be misclassified as false positive among all categories.\n",
    " - Among 2755 flase positives, there are 469 projects that are film&video (17%), which is most likely be misclassified as false positive. The second and the third category are Music and Publishing. In this case, we suggest projects' owners of these three categories be really careful when the model gives them a positive, because their false positive results appear to be more frequently occurred than other projet categories. "
   ]
  },
  {
   "cell_type": "markdown",
   "id": "25a4a083",
   "metadata": {},
   "source": [
    " ### Informative features are backers (0.64), usd_goal_real(0.172), and name_length (0.055)\n",
    "- In the RF model, the most informative features are bakers, usd_goal_real and name_length. They are informative in determining the success of the project. We suggest all project owners on kickstar website to pay attention to these three features, and compare their projects' features to the category average, and make proper adjustment on these three features."
   ]
  },
  {
   "cell_type": "markdown",
   "id": "b598ac44",
   "metadata": {
    "slideshow": {
     "slide_type": "subslide"
    }
   },
   "source": [
    "## Future Work\n",
    "\n",
    "- 1)We once tried to answer the question, \"What are the characteristics of the project that will get funded (successful)?\" We used a decision tree model to address this. \n",
    "    \n",
    "    However, the DTC model has high variance, and thus we used the Random Forest model instead. Though the RF model achieves lower variance than DTC, it is tough to interpret due to its nature. RF model uses random subsets of features at each split and creates different, less correlated trees. We can understand how a single tree works on splitting, but it's so hard to combine the split rules of many trees together. \n",
    "\n",
    "    We address the initial DTC idea in the next section. In future work, we want to find a good model for    interpreting the successful features while maintaining the variance-bias balance."
   ]
  },
  {
   "cell_type": "markdown",
   "id": "bdd8cdc7",
   "metadata": {
    "slideshow": {
     "slide_type": "subslide"
    }
   },
   "source": [
    "- 2) We found our dataset is highly imbalanced since we have too many samples belonging to country_US. We consider that the imbalance of the feature may raise the likelihood of bias. We will work on some ideas to balance the dataset in the future. For example, we may reduce the number of samples with the feature country_US and distribute all pieces evenly across countries.\n",
    "\n",
    "- 3) Currently, we used the length of project name, we can also use NLP to get useful infromation from Project's names."
   ]
  },
  {
   "cell_type": "markdown",
   "id": "b543a7e8",
   "metadata": {
    "slideshow": {
     "slide_type": "skip"
    }
   },
   "source": [
    "## Decision Tree Model\n",
    "\n",
    "**Using Decision Tree Algorithm to interpret the feature importance and figure out the pattern indicating the characteristics that able to make a successful product.**"
   ]
  },
  {
   "cell_type": "markdown",
   "id": "4b5c77d2",
   "metadata": {
    "slideshow": {
     "slide_type": "skip"
    }
   },
   "source": [
    "DTC model is built from the idea of recursively partitioning the training examples into purer sub groups. Each branch of the tree model uses a sequence of features to classify the target variable. Therefore, by summarizing the classification rule of each tree's branch and combining the individual likelihood into a big pattern, we can let people know which set of features may more likely to cause a specific outcome.\n",
    "\n",
    "The codes in the two blocks below were created by Winson Waisakurnia. He is a data scientist who write monthly articles in https://towardsdatascience.com/. His two methods work as efficient tools to gather the likelihood of each tree branch and then summarize them togther. We put reference of the two methods in the final part of this notebook. Please have a check."
   ]
  },
  {
   "cell_type": "code",
   "execution_count": 52,
   "id": "bffbaf2c",
   "metadata": {
    "slideshow": {
     "slide_type": "skip"
    }
   },
   "outputs": [],
   "source": [
    "from IPython.display import display, HTML\n",
    "from sklearn.tree import _tree, DecisionTreeClassifier\n",
    "import pandas as pd\n",
    "\n",
    "def pretty_print(df):\n",
    "    return display( HTML( df.to_html().replace(\"\\\\n\",\"<br>\") ) )\n",
    "\n",
    "def get_class_rules(tree: DecisionTreeClassifier, feature_names: list):\n",
    "    inner_tree: _tree.Tree = tree.tree_\n",
    "    classes = tree.classes_\n",
    "    class_rules_dict = dict()\n",
    "\n",
    "    def tree_dfs(node_id=0, current_rule=[]):\n",
    "        # feature[i] holds the feature to split on, for the internal node i.\n",
    "        split_feature = inner_tree.feature[node_id]\n",
    "        if split_feature != _tree.TREE_UNDEFINED: # internal node\n",
    "            name = feature_names[split_feature]\n",
    "            threshold = inner_tree.threshold[node_id]\n",
    "            # left child\n",
    "            left_rule = current_rule + [\"({} <= {})\".format(name, threshold)]\n",
    "            tree_dfs(inner_tree.children_left[node_id], left_rule)\n",
    "            # right child\n",
    "            right_rule = current_rule + [\"({} > {})\".format(name, threshold)]\n",
    "            tree_dfs(inner_tree.children_right[node_id], right_rule)\n",
    "        else: # leaf\n",
    "            dist = inner_tree.value[node_id][0]\n",
    "            dist = dist/dist.sum()\n",
    "            max_idx = dist.argmax()\n",
    "            if len(current_rule) == 0:\n",
    "                rule_string = \"ALL\"\n",
    "            else:\n",
    "                rule_string = \" and \".join(current_rule)\n",
    "                # register new rule to dictionary\n",
    "                selected_class = classes[max_idx]\n",
    "                class_probability = dist[max_idx]\n",
    "                class_rules = class_rules_dict.get(selected_class, [])\n",
    "                class_rules.append((rule_string, class_probability))\n",
    "                class_rules_dict[selected_class] = class_rules\n",
    "    \n",
    "    tree_dfs() # start from root, node_id = 0\n",
    "    return class_rules_dict"
   ]
  },
  {
   "cell_type": "code",
   "execution_count": 53,
   "id": "f83e61f3",
   "metadata": {
    "slideshow": {
     "slide_type": "skip"
    }
   },
   "outputs": [],
   "source": [
    "def classification_report(data: pd.DataFrame, clusters, min_samples_leaf=50, pruning_level=0.01):\n",
    "    # Create Model\n",
    "    tree = DecisionTreeClassifier(min_samples_leaf=min_samples_leaf, ccp_alpha=pruning_level)\n",
    "    tree.fit(data, clusters)\n",
    "    \n",
    "    # Generate Report\n",
    "    feature_names = data.columns\n",
    "    class_rule_dict = get_class_rules(tree, feature_names)\n",
    "\n",
    "    report_class_list = []\n",
    "    for class_name in class_rule_dict.keys():\n",
    "        rule_list = class_rule_dict[class_name]\n",
    "        combined_string = \"\"\n",
    "        for rule in rule_list:\n",
    "            combined_string += \"[{}] {}\\n\\n\".format(rule[1], rule[0])\n",
    "        report_class_list.append((class_name, combined_string))\n",
    "        \n",
    "    cluster_instance_df = pd.Series(clusters).value_counts().reset_index()\n",
    "    cluster_instance_df.columns = ['class_name', 'instance_count']\n",
    "    report_df = pd.DataFrame(report_class_list, columns=['class_name', 'rule_list'])\n",
    "    report_df = pd.merge(cluster_instance_df, report_df, on='class_name', how='left')\n",
    "    pretty_print(report_df.sort_values(by='class_name')[['class_name', 'instance_count', 'rule_list']])"
   ]
  },
  {
   "cell_type": "code",
   "execution_count": 54,
   "id": "b99e68ae",
   "metadata": {
    "slideshow": {
     "slide_type": "skip"
    }
   },
   "outputs": [
    {
     "data": {
      "text/html": [
       "<table border=\"1\" class=\"dataframe\">\n",
       "  <thead>\n",
       "    <tr style=\"text-align: right;\">\n",
       "      <th></th>\n",
       "      <th>class_name</th>\n",
       "      <th>instance_count</th>\n",
       "      <th>rule_list</th>\n",
       "    </tr>\n",
       "  </thead>\n",
       "  <tbody>\n",
       "    <tr>\n",
       "      <th>0</th>\n",
       "      <td>False</td>\n",
       "      <td>237802</td>\n",
       "      <td>[0.8974752553855926] (backers &lt;= 17.5) and (usd_goal_real &lt;= 758.8650207519531) and (backers &lt;= 5.5)<br><br>[0.973615075799793] (backers &lt;= 17.5) and (usd_goal_real &gt; 758.8650207519531)<br><br>[0.8376201434953296] (backers &gt; 17.5) and (usd_goal_real &gt; 8151.81005859375) and (backers &lt;= 85.5)<br><br></td>\n",
       "    </tr>\n",
       "    <tr>\n",
       "      <th>1</th>\n",
       "      <td>True</td>\n",
       "      <td>132446</td>\n",
       "      <td>[0.7657209710441649] (backers &lt;= 17.5) and (usd_goal_real &lt;= 758.8650207519531) and (backers &gt; 5.5)<br><br>[0.8570917959715739] (backers &gt; 17.5) and (usd_goal_real &lt;= 8151.81005859375)<br><br>[0.7810836126996648] (backers &gt; 17.5) and (usd_goal_real &gt; 8151.81005859375) and (backers &gt; 85.5)<br><br></td>\n",
       "    </tr>\n",
       "  </tbody>\n",
       "</table>"
      ],
      "text/plain": [
       "<IPython.core.display.HTML object>"
      ]
     },
     "metadata": {},
     "output_type": "display_data"
    }
   ],
   "source": [
    "classification_report(predictors, target)"
   ]
  },
  {
   "cell_type": "markdown",
   "id": "cf6ed584",
   "metadata": {
    "slideshow": {
     "slide_type": "skip"
    }
   },
   "source": [
    "### Explanation\n",
    "\n",
    "As you can see in the rule_list column, the content is formed by a likelihood ([0.8974752553855926]] for the first item) and a set of corresponding conditions (((usd_goal_real <= 758.8650207519531) and (backers <= 5.5)) for the first item). To interpret this, it means if a product has less than or equal to 5.5 backers, and requires a usd_goal less than or equal to 758.8650207519531, then the product has 89.74752553855926% likelihood to be failed (False as the class_name of the first column).\n",
    "\n",
    "Based on this report, a product owner or a potential investor may able to easily predict the final status of the product before its real launch."
   ]
  },
  {
   "cell_type": "markdown",
   "id": "11436ad6",
   "metadata": {
    "slideshow": {
     "slide_type": "subslide"
    }
   },
   "source": [
    "# References\n",
    "- One hot encoding: Machine learning handbook, chapter 2\n",
    "https://learning.oreilly.com/library/view/hands-on-machine-learning/9781492032632/\n",
    "- data visualization: HW1\n",
    "- cleaning the data: Applied midterm, HW2\n",
    "- decision tree classifier: https://scikit-learn.org/stable/modules/generated/sklearn.tree.DecisionTreeClassifier.html\n",
    "Course lecture slides\n",
    "- dtc feature importance:\n",
    "https://machinelearningmastery.com/calculate-feature-importance-with-python/\n",
    "- clustering code:\n",
    "https://towardsdatascience.com/the-easiest-way-to-interpret-clustering-result-8137e488a127\n",
    "- Type I Type II error:\n",
    "https://towardsdatascience.com/taking-the-confusion-out-of-confusion-matrices-c1ce054b3d3e\n",
    "- outlier:\n",
    "https://machinelearningmastery.com/how-to-use-statistics-to-identify-outliers-in-data/"
   ]
  },
  {
   "cell_type": "code",
   "execution_count": null,
   "id": "91c2fee8",
   "metadata": {},
   "outputs": [],
   "source": []
  }
 ],
 "metadata": {
  "celltoolbar": "Slideshow",
  "kernelspec": {
   "display_name": "Python 3 (ipykernel)",
   "language": "python",
   "name": "python3"
  },
  "language_info": {
   "codemirror_mode": {
    "name": "ipython",
    "version": 3
   },
   "file_extension": ".py",
   "mimetype": "text/x-python",
   "name": "python",
   "nbconvert_exporter": "python",
   "pygments_lexer": "ipython3",
   "version": "3.8.11"
  }
 },
 "nbformat": 4,
 "nbformat_minor": 5
}
